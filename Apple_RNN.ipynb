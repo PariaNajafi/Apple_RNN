{
  "nbformat": 4,
  "nbformat_minor": 0,
  "metadata": {
    "colab": {
      "provenance": [],
      "mount_file_id": "1ON1PdMcWTcKMNwhknoXm3oy4pdOA8byF",
      "authorship_tag": "ABX9TyOiP3WUnNK8BEoDIjLSCyAV",
      "include_colab_link": true
    },
    "kernelspec": {
      "name": "python3",
      "display_name": "Python 3"
    },
    "language_info": {
      "name": "python"
    }
  },
  "cells": [
    {
      "cell_type": "markdown",
      "metadata": {
        "id": "view-in-github",
        "colab_type": "text"
      },
      "source": [
        "<a href=\"https://colab.research.google.com/github/PariaNajafi/Apple_RNN/blob/main/Apple_RNN.ipynb\" target=\"_parent\"><img src=\"https://colab.research.google.com/assets/colab-badge.svg\" alt=\"Open In Colab\"/></a>"
      ]
    },
    {
      "cell_type": "code",
      "execution_count": null,
      "metadata": {
        "colab": {
          "base_uri": "https://localhost:8080/"
        },
        "id": "ByupL8w6yDoO",
        "outputId": "fc5c96fc-1ba1-4958-b061-3ecfb6e2b28d"
      },
      "outputs": [
        {
          "output_type": "stream",
          "name": "stderr",
          "text": [
            "\r[*********************100%***********************]  1 of 1 completed\n"
          ]
        }
      ],
      "source": [
        "import yfinance as yf\n",
        "# Download historical data for Apple (AAPL)\n",
        "apple_data = yf.download(\"AAPL\", start=\"2012-01-01\", end=\"2022-01-01\")\n",
        "closing_prices = apple_data['Close']\n",
        "apple_close = apple_data.iloc[:, 3:4].values"
      ]
    },
    {
      "cell_type": "code",
      "source": [
        "apple_close.shape, closing_prices.shape, apple_close.dtype , closing_prices.dtype"
      ],
      "metadata": {
        "colab": {
          "base_uri": "https://localhost:8080/"
        },
        "id": "TIktPnmsDZMg",
        "outputId": "722be915-d183-450f-d4bc-466574e36a70"
      },
      "execution_count": null,
      "outputs": [
        {
          "output_type": "execute_result",
          "data": {
            "text/plain": [
              "((2517, 1), (2517,), dtype('float64'), dtype('float64'))"
            ]
          },
          "metadata": {},
          "execution_count": 46
        }
      ]
    },
    {
      "cell_type": "code",
      "source": [
        "apple_close[0][0], apple_data['Close'][0]\n"
      ],
      "metadata": {
        "colab": {
          "base_uri": "https://localhost:8080/"
        },
        "id": "u30_ZN9G0uPg",
        "outputId": "a8e6b6a2-654f-4890-cdc0-5fdd9dae63dc"
      },
      "execution_count": null,
      "outputs": [
        {
          "output_type": "stream",
          "name": "stderr",
          "text": [
            "<ipython-input-47-231406f3deb7>:1: FutureWarning: Series.__getitem__ treating keys as positions is deprecated. In a future version, integer keys will always be treated as labels (consistent with DataFrame behavior). To access a value by position, use `ser.iloc[pos]`\n",
            "  apple_close[0][0], apple_data['Close'][0]\n"
          ]
        },
        {
          "output_type": "execute_result",
          "data": {
            "text/plain": [
              "(14.686785697937012, 14.686785697937012)"
            ]
          },
          "metadata": {},
          "execution_count": 47
        }
      ]
    },
    {
      "cell_type": "markdown",
      "source": [
        "when data is shown in series,(apple_close[0]) or in a dataset apple_data or in an array, <br>\n",
        "\n",
        "python would not show us the actual number and rounds it down to a specific decimal places!"
      ],
      "metadata": {
        "id": "XdPTWCXhPQuv"
      }
    },
    {
      "cell_type": "code",
      "source": [
        "import pandas as pd\n",
        "import numpy as np\n",
        "from sklearn.preprocessing import MinMaxScaler\n",
        "from sklearn.model_selection import train_test_split"
      ],
      "metadata": {
        "id": "b2aW97_GybYR"
      },
      "execution_count": null,
      "outputs": []
    },
    {
      "cell_type": "code",
      "source": [
        "closing_prices.info()"
      ],
      "metadata": {
        "colab": {
          "base_uri": "https://localhost:8080/"
        },
        "id": "G1BDPMUT18lD",
        "outputId": "6d79bcfa-4ba6-4519-b8a4-d7c277bf0eb3"
      },
      "execution_count": null,
      "outputs": [
        {
          "output_type": "stream",
          "name": "stdout",
          "text": [
            "<class 'pandas.core.series.Series'>\n",
            "DatetimeIndex: 2517 entries, 2012-01-03 to 2021-12-31\n",
            "Series name: Close\n",
            "Non-Null Count  Dtype  \n",
            "--------------  -----  \n",
            "2517 non-null   float64\n",
            "dtypes: float64(1)\n",
            "memory usage: 39.3 KB\n"
          ]
        }
      ]
    },
    {
      "cell_type": "code",
      "source": [
        "closing_prices.isnull().sum()"
      ],
      "metadata": {
        "colab": {
          "base_uri": "https://localhost:8080/"
        },
        "id": "ko4ZTcJB2sx4",
        "outputId": "918a03c3-61e9-41d8-c6c2-79d7410e92f4"
      },
      "execution_count": null,
      "outputs": [
        {
          "output_type": "execute_result",
          "data": {
            "text/plain": [
              "0"
            ]
          },
          "metadata": {},
          "execution_count": 50
        }
      ]
    },
    {
      "cell_type": "code",
      "source": [
        "import matplotlib.pyplot as plt"
      ],
      "metadata": {
        "id": "DKoFWL1f3BJu"
      },
      "execution_count": null,
      "outputs": []
    },
    {
      "cell_type": "code",
      "source": [
        "\n",
        "closing_prices.plot(kind='line', figsize=(8, 4), title=' apple closing prices')\n",
        "plt.gca().spines[['top', 'right']].set_visible(False)"
      ],
      "metadata": {
        "colab": {
          "base_uri": "https://localhost:8080/",
          "height": 390
        },
        "id": "wjJrmiBtB40m",
        "outputId": "b74b7c4a-7bfc-44e1-db37-d25d6a5a0f28"
      },
      "execution_count": null,
      "outputs": [
        {
          "output_type": "display_data",
          "data": {
            "text/plain": [
              "<Figure size 800x400 with 1 Axes>"
            ],
            "image/png": "[encoded data removed]"
          },
          "metadata": {}
        }
      ]
    },
    {
      "cell_type": "code",
      "source": [
        "plt.figure(figsize=(8, 4))\n",
        "plt.plot(apple_close[:])"
      ],
      "metadata": {
        "colab": {
          "base_uri": "https://localhost:8080/",
          "height": 385
        },
        "id": "ZFVzdO49SZLL",
        "outputId": "1d84cdea-ed76-4fad-e148-ff6061482d33",
        "collapsed": true
      },
      "execution_count": null,
      "outputs": [
        {
          "output_type": "execute_result",
          "data": {
            "text/plain": [
              "[<matplotlib.lines.Line2D at 0x7c13aa3a3d30>]"
            ]
          },
          "metadata": {},
          "execution_count": 53
        },
        {
          "output_type": "display_data",
          "data": {
            "text/plain": [
              "<Figure size 800x400 with 1 Axes>"
            ],
            "image/png": "[encoded data removed]"
          },
          "metadata": {}
        }
      ]
    },
    {
      "cell_type": "code",
      "source": [
        "#closing_prices = closing_prices.values.astype('float32')"
      ],
      "metadata": {
        "id": "azGhfmSRCWlu"
      },
      "execution_count": null,
      "outputs": []
    },
    {
      "cell_type": "code",
      "source": [
        "apple_data[0:30]"
      ],
      "metadata": {
        "colab": {
          "base_uri": "https://localhost:8080/",
          "height": 1000
        },
        "collapsed": true,
        "id": "2GsAw8FLVVDJ",
        "outputId": "068eb4d8-e67d-4ca3-8f7b-7bdfc480b179"
      },
      "execution_count": null,
      "outputs": [
        {
          "output_type": "execute_result",
          "data": {
            "text/plain": [
              "                 Open       High        Low      Close  Adj Close     Volume\n",
              "Date                                                                        \n",
              "2012-01-03  14.621429  14.732143  14.607143  14.686786  12.402629  302220800\n",
              "2012-01-04  14.642857  14.810000  14.617143  14.765714  12.469276  260022000\n",
              "2012-01-05  14.819643  14.948214  14.738214  14.929643  12.607709  271269600\n",
              "2012-01-06  14.991786  15.098214  14.972143  15.085714  12.739511  318292800\n",
              "2012-01-09  15.196429  15.276786  15.048214  15.061786  12.719304  394024400\n",
              "2012-01-10  15.211071  15.214286  15.053571  15.115714  12.764848  258196400\n",
              "2012-01-11  15.095714  15.101786  14.975357  15.091071  12.744036  215084800\n",
              "2012-01-12  15.081429  15.103571  14.955357  15.049643  12.709051  212587200\n",
              "2012-01-13  14.989286  15.016071  14.952143  14.993214  12.661396  226021600\n",
              "2012-01-17  15.150000  15.213929  15.105714  15.167857  12.808881  242897200\n",
              "2012-01-18  15.248571  15.338214  15.225000  15.325357  12.941884  276791200\n",
              "2012-01-19  15.362500  15.406071  15.232500  15.276786  12.900869  261738400\n",
              "2012-01-20  15.267500  15.267857  14.991071  15.010714  12.676177  413974400\n",
              "2012-01-23  15.095357  15.301786  15.082143  15.264643  12.890614  306062400\n",
              "2012-01-24  15.182143  15.182143  14.983929  15.014643  12.679495  547638000\n",
              "2012-01-25  16.230000  16.230356  15.847500  15.952143  13.471189  958314000\n",
              "2012-01-26  16.012857  16.028214  15.826429  15.879643  13.409967  323985200\n",
              "2012-01-27  15.869286  16.017143  15.848929  15.974286  13.489889  299709200\n",
              "2012-01-30  15.918214  16.210714  15.906786  16.178928  13.662704  379341200\n",
              "2012-01-31  16.271070  16.365713  16.181070  16.302856  13.767357  391683600\n",
              "2012-02-01  16.371786  16.392500  16.269644  16.292500  13.758610  270046000\n",
              "2012-02-02  16.282143  16.327499  16.213572  16.254286  13.726343  186796400\n",
              "2012-02-03  16.332144  16.428572  16.270000  16.417143  13.863873  286599600\n",
              "2012-02-06  16.370714  16.606428  16.364286  16.570356  13.993255  249412800\n",
              "2012-02-07  16.616072  16.776787  16.592142  16.743929  14.139833  316223600\n",
              "2012-02-08  16.803572  17.028214  16.775000  17.024286  14.376590  407890000\n",
              "2012-02-09  17.170000  17.741072  17.162857  17.613214  14.873920  884214800\n",
              "2012-02-10  17.534286  17.772142  17.448214  17.622143  14.881462  631302000\n",
              "2012-02-13  17.840357  17.993929  17.753214  17.950001  15.158326  517216000\n",
              "2012-02-14  18.023571  18.198570  17.928572  18.195000  15.365227  460398400"
            ],
            "text/html": [
              "\n",
              "  <div id=\"df-3e3c43a6-08ed-415b-a04e-0be5234c10d0\" class=\"colab-df-container\">\n",
              "    <div>\n",
              "<style scoped>\n",
              "    .dataframe tbody tr th:only-of-type {\n",
              "        vertical-align: middle;\n",
              "    }\n",
              "\n",
              "    .dataframe tbody tr th {\n",
              "        vertical-align: top;\n",
              "    }\n",
              "\n",
              "    .dataframe thead th {\n",
              "        text-align: right;\n",
              "    }\n",
              "</style>\n",
              "<table border=\"1\" class=\"dataframe\">\n",
              "  <thead>\n",
              "    <tr style=\"text-align: right;\">\n",
              "      <th></th>\n",
              "      <th>Open</th>\n",
              "      <th>High</th>\n",
              "      <th>Low</th>\n",
              "      <th>Close</th>\n",
              "      <th>Adj Close</th>\n",
              "      <th>Volume</th>\n",
              "    </tr>\n",
              "    <tr>\n",
              "      <th>Date</th>\n",
              "      <th></th>\n",
              "      <th></th>\n",
              "      <th></th>\n",
              "      <th></th>\n",
              "      <th></th>\n",
              "      <th></th>\n",
              "    </tr>\n",
              "  </thead>\n",
              "  <tbody>\n",
              "    <tr>\n",
              "      <th>2012-01-03</th>\n",
              "      <td>14.621429</td>\n",
              "      <td>14.732143</td>\n",
              "      <td>14.607143</td>\n",
              "      <td>14.686786</td>\n",
              "      <td>12.402629</td>\n",
              "      <td>302220800</td>\n",
              "    </tr>\n",
              "    <tr>\n",
              "      <th>2012-01-04</th>\n",
              "      <td>14.642857</td>\n",
              "      <td>14.810000</td>\n",
              "      <td>14.617143</td>\n",
              "      <td>14.765714</td>\n",
              "      <td>12.469276</td>\n",
              "      <td>260022000</td>\n",
              "    </tr>\n",
              "    <tr>\n",
              "      <th>2012-01-05</th>\n",
              "      <td>14.819643</td>\n",
              "      <td>14.948214</td>\n",
              "      <td>14.738214</td>\n",
              "      <td>14.929643</td>\n",
              "      <td>12.607709</td>\n",
              "      <td>271269600</td>\n",
              "    </tr>\n",
              "    <tr>\n",
              "      <th>2012-01-06</th>\n",
              "      <td>14.991786</td>\n",
              "      <td>15.098214</td>\n",
              "      <td>14.972143</td>\n",
              "      <td>15.085714</td>\n",
              "      <td>12.739511</td>\n",
              "      <td>318292800</td>\n",
              "    </tr>\n",
              "    <tr>\n",
              "      <th>2012-01-09</th>\n",
              "      <td>15.196429</td>\n",
              "      <td>15.276786</td>\n",
              "      <td>15.048214</td>\n",
              "      <td>15.061786</td>\n",
              "      <td>12.719304</td>\n",
              "      <td>394024400</td>\n",
              "    </tr>\n",
              "    <tr>\n",
              "      <th>2012-01-10</th>\n",
              "      <td>15.211071</td>\n",
              "      <td>15.214286</td>\n",
              "      <td>15.053571</td>\n",
              "      <td>15.115714</td>\n",
              "      <td>12.764848</td>\n",
              "      <td>258196400</td>\n",
              "    </tr>\n",
              "    <tr>\n",
              "      <th>2012-01-11</th>\n",
              "      <td>15.095714</td>\n",
              "      <td>15.101786</td>\n",
              "      <td>14.975357</td>\n",
              "      <td>15.091071</td>\n",
              "      <td>12.744036</td>\n",
              "      <td>215084800</td>\n",
              "    </tr>\n",
              "    <tr>\n",
              "      <th>2012-01-12</th>\n",
              "      <td>15.081429</td>\n",
              "      <td>15.103571</td>\n",
              "      <td>14.955357</td>\n",
              "      <td>15.049643</td>\n",
              "      <td>12.709051</td>\n",
              "      <td>212587200</td>\n",
              "    </tr>\n",
              "    <tr>\n",
              "      <th>2012-01-13</th>\n",
              "      <td>14.989286</td>\n",
              "      <td>15.016071</td>\n",
              "      <td>14.952143</td>\n",
              "      <td>14.993214</td>\n",
              "      <td>12.661396</td>\n",
              "      <td>226021600</td>\n",
              "    </tr>\n",
              "    <tr>\n",
              "      <th>2012-01-17</th>\n",
              "      <td>15.150000</td>\n",
              "      <td>15.213929</td>\n",
              "      <td>15.105714</td>\n",
              "      <td>15.167857</td>\n",
              "      <td>12.808881</td>\n",
              "      <td>242897200</td>\n",
              "    </tr>\n",
              "    <tr>\n",
              "      <th>2012-01-18</th>\n",
              "      <td>15.248571</td>\n",
              "      <td>15.338214</td>\n",
              "      <td>15.225000</td>\n",
              "      <td>15.325357</td>\n",
              "      <td>12.941884</td>\n",
              "      <td>276791200</td>\n",
              "    </tr>\n",
              "    <tr>\n",
              "      <th>2012-01-19</th>\n",
              "      <td>15.362500</td>\n",
              "      <td>15.406071</td>\n",
              "      <td>15.232500</td>\n",
              "      <td>15.276786</td>\n",
              "      <td>12.900869</td>\n",
              "      <td>261738400</td>\n",
              "    </tr>\n",
              "    <tr>\n",
              "      <th>2012-01-20</th>\n",
              "      <td>15.267500</td>\n",
              "      <td>15.267857</td>\n",
              "      <td>14.991071</td>\n",
              "      <td>15.010714</td>\n",
              "      <td>12.676177</td>\n",
              "      <td>413974400</td>\n",
              "    </tr>\n",
              "    <tr>\n",
              "      <th>2012-01-23</th>\n",
              "      <td>15.095357</td>\n",
              "      <td>15.301786</td>\n",
              "      <td>15.082143</td>\n",
              "      <td>15.264643</td>\n",
              "      <td>12.890614</td>\n",
              "      <td>306062400</td>\n",
              "    </tr>\n",
              "    <tr>\n",
              "      <th>2012-01-24</th>\n",
              "      <td>15.182143</td>\n",
              "      <td>15.182143</td>\n",
              "      <td>14.983929</td>\n",
              "      <td>15.014643</td>\n",
              "      <td>12.679495</td>\n",
              "      <td>547638000</td>\n",
              "    </tr>\n",
              "    <tr>\n",
              "      <th>2012-01-25</th>\n",
              "      <td>16.230000</td>\n",
              "      <td>16.230356</td>\n",
              "      <td>15.847500</td>\n",
              "      <td>15.952143</td>\n",
              "      <td>13.471189</td>\n",
              "      <td>958314000</td>\n",
              "    </tr>\n",
              "    <tr>\n",
              "      <th>2012-01-26</th>\n",
              "      <td>16.012857</td>\n",
              "      <td>16.028214</td>\n",
              "      <td>15.826429</td>\n",
              "      <td>15.879643</td>\n",
              "      <td>13.409967</td>\n",
              "      <td>323985200</td>\n",
              "    </tr>\n",
              "    <tr>\n",
              "      <th>2012-01-27</th>\n",
              "      <td>15.869286</td>\n",
              "      <td>16.017143</td>\n",
              "      <td>15.848929</td>\n",
              "      <td>15.974286</td>\n",
              "      <td>13.489889</td>\n",
              "      <td>299709200</td>\n",
              "    </tr>\n",
              "    <tr>\n",
              "      <th>2012-01-30</th>\n",
              "      <td>15.918214</td>\n",
              "      <td>16.210714</td>\n",
              "      <td>15.906786</td>\n",
              "      <td>16.178928</td>\n",
              "      <td>13.662704</td>\n",
              "      <td>379341200</td>\n",
              "    </tr>\n",
              "    <tr>\n",
              "      <th>2012-01-31</th>\n",
              "      <td>16.271070</td>\n",
              "      <td>16.365713</td>\n",
              "      <td>16.181070</td>\n",
              "      <td>16.302856</td>\n",
              "      <td>13.767357</td>\n",
              "      <td>391683600</td>\n",
              "    </tr>\n",
              "    <tr>\n",
              "      <th>2012-02-01</th>\n",
              "      <td>16.371786</td>\n",
              "      <td>16.392500</td>\n",
              "      <td>16.269644</td>\n",
              "      <td>16.292500</td>\n",
              "      <td>13.758610</td>\n",
              "      <td>270046000</td>\n",
              "    </tr>\n",
              "    <tr>\n",
              "      <th>2012-02-02</th>\n",
              "      <td>16.282143</td>\n",
              "      <td>16.327499</td>\n",
              "      <td>16.213572</td>\n",
              "      <td>16.254286</td>\n",
              "      <td>13.726343</td>\n",
              "      <td>186796400</td>\n",
              "    </tr>\n",
              "    <tr>\n",
              "      <th>2012-02-03</th>\n",
              "      <td>16.332144</td>\n",
              "      <td>16.428572</td>\n",
              "      <td>16.270000</td>\n",
              "      <td>16.417143</td>\n",
              "      <td>13.863873</td>\n",
              "      <td>286599600</td>\n",
              "    </tr>\n",
              "    <tr>\n",
              "      <th>2012-02-06</th>\n",
              "      <td>16.370714</td>\n",
              "      <td>16.606428</td>\n",
              "      <td>16.364286</td>\n",
              "      <td>16.570356</td>\n",
              "      <td>13.993255</td>\n",
              "      <td>249412800</td>\n",
              "    </tr>\n",
              "    <tr>\n",
              "      <th>2012-02-07</th>\n",
              "      <td>16.616072</td>\n",
              "      <td>16.776787</td>\n",
              "      <td>16.592142</td>\n",
              "      <td>16.743929</td>\n",
              "      <td>14.139833</td>\n",
              "      <td>316223600</td>\n",
              "    </tr>\n",
              "    <tr>\n",
              "      <th>2012-02-08</th>\n",
              "      <td>16.803572</td>\n",
              "      <td>17.028214</td>\n",
              "      <td>16.775000</td>\n",
              "      <td>17.024286</td>\n",
              "      <td>14.376590</td>\n",
              "      <td>407890000</td>\n",
              "    </tr>\n",
              "    <tr>\n",
              "      <th>2012-02-09</th>\n",
              "      <td>17.170000</td>\n",
              "      <td>17.741072</td>\n",
              "      <td>17.162857</td>\n",
              "      <td>17.613214</td>\n",
              "      <td>14.873920</td>\n",
              "      <td>884214800</td>\n",
              "    </tr>\n",
              "    <tr>\n",
              "      <th>2012-02-10</th>\n",
              "      <td>17.534286</td>\n",
              "      <td>17.772142</td>\n",
              "      <td>17.448214</td>\n",
              "      <td>17.622143</td>\n",
              "      <td>14.881462</td>\n",
              "      <td>631302000</td>\n",
              "    </tr>\n",
              "    <tr>\n",
              "      <th>2012-02-13</th>\n",
              "      <td>17.840357</td>\n",
              "      <td>17.993929</td>\n",
              "      <td>17.753214</td>\n",
              "      <td>17.950001</td>\n",
              "      <td>15.158326</td>\n",
              "      <td>517216000</td>\n",
              "    </tr>\n",
              "    <tr>\n",
              "      <th>2012-02-14</th>\n",
              "      <td>18.023571</td>\n",
              "      <td>18.198570</td>\n",
              "      <td>17.928572</td>\n",
              "      <td>18.195000</td>\n",
              "      <td>15.365227</td>\n",
              "      <td>460398400</td>\n",
              "    </tr>\n",
              "  </tbody>\n",
              "</table>\n",
              "</div>\n",
              "    <div class=\"colab-df-buttons\">\n",
              "\n",
              "  <div class=\"colab-df-container\">\n",
              "    <button class=\"colab-df-convert\" onclick=\"convertToInteractive('df-3e3c43a6-08ed-415b-a04e-0be5234c10d0')\"\n",
              "            title=\"Convert this dataframe to an interactive table.\"\n",
              "            style=\"display:none;\">\n",
              "\n",
              "  <svg xmlns=\"http://www.w3.org/2000/svg\" height=\"24px\" viewBox=\"0 -960 960 960\">\n",
              "    <path d=\"M120-120v-720h720v720H120Zm60-500h600v-160H180v160Zm220 220h160v-160H400v160Zm0 220h160v-160H400v160ZM180-400h160v-160H180v160Zm440 0h160v-160H620v160ZM180-180h160v-160H180v160Zm440 0h160v-160H620v160Z\"/>\n",
              "  </svg>\n",
              "    </button>\n",
              "\n",
              "  <style>\n",
              "    .colab-df-container {\n",
              "      display:flex;\n",
              "      gap: 12px;\n",
              "    }\n",
              "\n",
              "    .colab-df-convert {\n",
              "      background-color: #E8F0FE;\n",
              "      border: none;\n",
              "      border-radius: 50%;\n",
              "      cursor: pointer;\n",
              "      display: none;\n",
              "      fill: #1967D2;\n",
              "      height: 32px;\n",
              "      padding: 0 0 0 0;\n",
              "      width: 32px;\n",
              "    }\n",
              "\n",
              "    .colab-df-convert:hover {\n",
              "      background-color: #E2EBFA;\n",
              "      box-shadow: 0px 1px 2px rgba(60, 64, 67, 0.3), 0px 1px 3px 1px rgba(60, 64, 67, 0.15);\n",
              "      fill: #174EA6;\n",
              "    }\n",
              "\n",
              "    .colab-df-buttons div {\n",
              "      margin-bottom: 4px;\n",
              "    }\n",
              "\n",
              "    [theme=dark] .colab-df-convert {\n",
              "      background-color: #3B4455;\n",
              "      fill: #D2E3FC;\n",
              "    }\n",
              "\n",
              "    [theme=dark] .colab-df-convert:hover {\n",
              "      background-color: #434B5C;\n",
              "      box-shadow: 0px 1px 3px 1px rgba(0, 0, 0, 0.15);\n",
              "      filter: drop-shadow(0px 1px 2px rgba(0, 0, 0, 0.3));\n",
              "      fill: #FFFFFF;\n",
              "    }\n",
              "  </style>\n",
              "\n",
              "    <script>\n",
              "      const buttonEl =\n",
              "        document.querySelector('#df-3e3c43a6-08ed-415b-a04e-0be5234c10d0 button.colab-df-convert');\n",
              "      buttonEl.style.display =\n",
              "        google.colab.kernel.accessAllowed ? 'block' : 'none';\n",
              "\n",
              "      async function convertToInteractive(key) {\n",
              "        const element = document.querySelector('#df-3e3c43a6-08ed-415b-a04e-0be5234c10d0');\n",
              "        const dataTable =\n",
              "          await google.colab.kernel.invokeFunction('convertToInteractive',\n",
              "                                                    [key], {});\n",
              "        if (!dataTable) return;\n",
              "\n",
              "        const docLinkHtml = 'Like what you see? Visit the ' +\n",
              "          '<a target=\"_blank\" href=https://colab.research.google.com/notebooks/data_table.ipynb>data table notebook</a>'\n",
              "          + ' to learn more about interactive tables.';\n",
              "        element.innerHTML = '';\n",
              "        dataTable['output_type'] = 'display_data';\n",
              "        await google.colab.output.renderOutput(dataTable, element);\n",
              "        const docLink = document.createElement('div');\n",
              "        docLink.innerHTML = docLinkHtml;\n",
              "        element.appendChild(docLink);\n",
              "      }\n",
              "    </script>\n",
              "  </div>\n",
              "\n",
              "\n",
              "<div id=\"df-3342010b-4c22-43e6-a5c5-b66cb8f96947\">\n",
              "  <button class=\"colab-df-quickchart\" onclick=\"quickchart('df-3342010b-4c22-43e6-a5c5-b66cb8f96947')\"\n",
              "            title=\"Suggest charts\"\n",
              "            style=\"display:none;\">\n",
              "\n",
              "<svg xmlns=\"http://www.w3.org/2000/svg\" height=\"24px\"viewBox=\"0 0 24 24\"\n",
              "     width=\"24px\">\n",
              "    <g>\n",
              "        <path d=\"M19 3H5c-1.1 0-2 .9-2 2v14c0 1.1.9 2 2 2h14c1.1 0 2-.9 2-2V5c0-1.1-.9-2-2-2zM9 17H7v-7h2v7zm4 0h-2V7h2v10zm4 0h-2v-4h2v4z\"/>\n",
              "    </g>\n",
              "</svg>\n",
              "  </button>\n",
              "\n",
              "<style>\n",
              "  .colab-df-quickchart {\n",
              "      --bg-color: #E8F0FE;\n",
              "      --fill-color: #1967D2;\n",
              "      --hover-bg-color: #E2EBFA;\n",
              "      --hover-fill-color: #174EA6;\n",
              "      --disabled-fill-color: #AAA;\n",
              "      --disabled-bg-color: #DDD;\n",
              "  }\n",
              "\n",
              "  [theme=dark] .colab-df-quickchart {\n",
              "      --bg-color: #3B4455;\n",
              "      --fill-color: #D2E3FC;\n",
              "      --hover-bg-color: #434B5C;\n",
              "      --hover-fill-color: #FFFFFF;\n",
              "      --disabled-bg-color: #3B4455;\n",
              "      --disabled-fill-color: #666;\n",
              "  }\n",
              "\n",
              "  .colab-df-quickchart {\n",
              "    background-color: var(--bg-color);\n",
              "    border: none;\n",
              "    border-radius: 50%;\n",
              "    cursor: pointer;\n",
              "    display: none;\n",
              "    fill: var(--fill-color);\n",
              "    height: 32px;\n",
              "    padding: 0;\n",
              "    width: 32px;\n",
              "  }\n",
              "\n",
              "  .colab-df-quickchart:hover {\n",
              "    background-color: var(--hover-bg-color);\n",
              "    box-shadow: 0 1px 2px rgba(60, 64, 67, 0.3), 0 1px 3px 1px rgba(60, 64, 67, 0.15);\n",
              "    fill: var(--button-hover-fill-color);\n",
              "  }\n",
              "\n",
              "  .colab-df-quickchart-complete:disabled,\n",
              "  .colab-df-quickchart-complete:disabled:hover {\n",
              "    background-color: var(--disabled-bg-color);\n",
              "    fill: var(--disabled-fill-color);\n",
              "    box-shadow: none;\n",
              "  }\n",
              "\n",
              "  .colab-df-spinner {\n",
              "    border: 2px solid var(--fill-color);\n",
              "    border-color: transparent;\n",
              "    border-bottom-color: var(--fill-color);\n",
              "    animation:\n",
              "      spin 1s steps(1) infinite;\n",
              "  }\n",
              "\n",
              "  @keyframes spin {\n",
              "    0% {\n",
              "      border-color: transparent;\n",
              "      border-bottom-color: var(--fill-color);\n",
              "      border-left-color: var(--fill-color);\n",
              "    }\n",
              "    20% {\n",
              "      border-color: transparent;\n",
              "      border-left-color: var(--fill-color);\n",
              "      border-top-color: var(--fill-color);\n",
              "    }\n",
              "    30% {\n",
              "      border-color: transparent;\n",
              "      border-left-color: var(--fill-color);\n",
              "      border-top-color: var(--fill-color);\n",
              "      border-right-color: var(--fill-color);\n",
              "    }\n",
              "    40% {\n",
              "      border-color: transparent;\n",
              "      border-right-color: var(--fill-color);\n",
              "      border-top-color: var(--fill-color);\n",
              "    }\n",
              "    60% {\n",
              "      border-color: transparent;\n",
              "      border-right-color: var(--fill-color);\n",
              "    }\n",
              "    80% {\n",
              "      border-color: transparent;\n",
              "      border-right-color: var(--fill-color);\n",
              "      border-bottom-color: var(--fill-color);\n",
              "    }\n",
              "    90% {\n",
              "      border-color: transparent;\n",
              "      border-bottom-color: var(--fill-color);\n",
              "    }\n",
              "  }\n",
              "</style>\n",
              "\n",
              "  <script>\n",
              "    async function quickchart(key) {\n",
              "      const quickchartButtonEl =\n",
              "        document.querySelector('#' + key + ' button');\n",
              "      quickchartButtonEl.disabled = true;  // To prevent multiple clicks.\n",
              "      quickchartButtonEl.classList.add('colab-df-spinner');\n",
              "      try {\n",
              "        const charts = await google.colab.kernel.invokeFunction(\n",
              "            'suggestCharts', [key], {});\n",
              "      } catch (error) {\n",
              "        console.error('Error during call to suggestCharts:', error);\n",
              "      }\n",
              "      quickchartButtonEl.classList.remove('colab-df-spinner');\n",
              "      quickchartButtonEl.classList.add('colab-df-quickchart-complete');\n",
              "    }\n",
              "    (() => {\n",
              "      let quickchartButtonEl =\n",
              "        document.querySelector('#df-3342010b-4c22-43e6-a5c5-b66cb8f96947 button');\n",
              "      quickchartButtonEl.style.display =\n",
              "        google.colab.kernel.accessAllowed ? 'block' : 'none';\n",
              "    })();\n",
              "  </script>\n",
              "</div>\n",
              "\n",
              "    </div>\n",
              "  </div>\n"
            ],
            "application/vnd.google.colaboratory.intrinsic+json": {
              "type": "dataframe",
              "summary": "{\n  \"name\": \"apple_data[0:30]\",\n  \"rows\": 30,\n  \"fields\": [\n    {\n      \"column\": \"Date\",\n      \"properties\": {\n        \"dtype\": \"date\",\n        \"min\": \"2012-01-03 00:00:00\",\n        \"max\": \"2012-02-14 00:00:00\",\n        \"num_unique_values\": 30,\n        \"samples\": [\n          \"2012-02-10 00:00:00\",\n          \"2012-01-25 00:00:00\",\n          \"2012-02-06 00:00:00\"\n        ],\n        \"semantic_type\": \"\",\n        \"description\": \"\"\n      }\n    },\n    {\n      \"column\": \"Open\",\n      \"properties\": {\n        \"dtype\": \"number\",\n        \"std\": 0.947258149902454,\n        \"min\": 14.621429443359375,\n        \"max\": 18.023571014404297,\n        \"num_unique_values\": 30,\n        \"samples\": [\n          17.534286499023438,\n          16.229999542236328,\n          16.37071418762207\n        ],\n        \"semantic_type\": \"\",\n        \"description\": \"\"\n      }\n    },\n    {\n      \"column\": \"High\",\n      \"properties\": {\n        \"dtype\": \"number\",\n        \"std\": 1.0072941842130287,\n        \"min\": 14.73214340209961,\n        \"max\": 18.198570251464844,\n        \"num_unique_values\": 30,\n        \"samples\": [\n          17.77214241027832,\n          16.230356216430664,\n          16.606428146362305\n        ],\n        \"semantic_type\": \"\",\n        \"description\": \"\"\n      }\n    },\n    {\n      \"column\": \"Low\",\n      \"properties\": {\n        \"dtype\": \"number\",\n        \"std\": 0.9539819646425279,\n        \"min\": 14.60714340209961,\n        \"max\": 17.928571701049805,\n        \"num_unique_values\": 30,\n        \"samples\": [\n          17.448213577270508,\n          15.84749984741211,\n          16.364286422729492\n        ],\n        \"semantic_type\": \"\",\n        \"description\": \"\"\n      }\n    },\n    {\n      \"column\": \"Close\",\n      \"properties\": {\n        \"dtype\": \"number\",\n        \"std\": 1.0120681266632026,\n        \"min\": 14.686785697937012,\n        \"max\": 18.19499969482422,\n        \"num_unique_values\": 30,\n        \"samples\": [\n          17.622142791748047,\n          15.952142715454102,\n          16.570356369018555\n        ],\n        \"semantic_type\": \"\",\n        \"description\": \"\"\n      }\n    },\n    {\n      \"column\": \"Adj Close\",\n      \"properties\": {\n        \"dtype\": \"number\",\n        \"std\": 0.8546660389611125,\n        \"min\": 12.402628898620605,\n        \"max\": 15.365226745605469,\n        \"num_unique_values\": 30,\n        \"samples\": [\n          14.881462097167969,\n          13.47118854522705,\n          13.993254661560059\n        ],\n        \"semantic_type\": \"\",\n        \"description\": \"\"\n      }\n    },\n    {\n      \"column\": \"Volume\",\n      \"properties\": {\n        \"dtype\": \"number\",\n        \"std\": 183025653,\n        \"min\": 186796400,\n        \"max\": 958314000,\n        \"num_unique_values\": 30,\n        \"samples\": [\n          631302000,\n          958314000,\n          249412800\n        ],\n        \"semantic_type\": \"\",\n        \"description\": \"\"\n      }\n    }\n  ]\n}"
            }
          },
          "metadata": {},
          "execution_count": 55
        }
      ]
    },
    {
      "cell_type": "markdown",
      "source": [
        "if we want to predict every monday's price, data need some"
      ],
      "metadata": {
        "id": "Ks-Kr-ZUgGFu"
      }
    },
    {
      "cell_type": "code",
      "source": [
        "apple_data.index.dtype, pd.Index(apple_data.index).dtype"
      ],
      "metadata": {
        "colab": {
          "base_uri": "https://localhost:8080/"
        },
        "id": "YI7WnMpBpaGY",
        "outputId": "91c7340e-ecdb-4ce0-ec8a-f8b6f8ae9b60"
      },
      "execution_count": null,
      "outputs": [
        {
          "output_type": "execute_result",
          "data": {
            "text/plain": [
              "(dtype('<M8[ns]'), dtype('<M8[ns]'))"
            ]
          },
          "metadata": {},
          "execution_count": 56
        }
      ]
    },
    {
      "cell_type": "code",
      "source": [
        "# apple_data['datetime'] = apple_data['datetime'].astype(int)\n",
        "# apple_data['datetime'] = apple_data['datetime'].div(10**9)"
      ],
      "metadata": {
        "id": "1ue-ehX75jLB"
      },
      "execution_count": null,
      "outputs": []
    },
    {
      "cell_type": "code",
      "source": [
        "from datetime import datetime, timedelta\n",
        "start_date = apple_data.index[0]\n",
        "end_date = apple_data.index[-1]\n",
        "nb_days = (end_date - start_date).days + 1\n",
        "dates = [start_date + timedelta(days=x) for x in range(nb_days)]\n",
        "dates = [d for d in dates if not d.isoweekday() in [6,7]]\n",
        "time_frame = pd.DataFrame({'Date' : dates})\n",
        "time_frame = time_frame.set_index('Date')\n",
        "filled_df = time_frame.merge(apple_data, how='outer', left_index=True, right_index=True, suffixes=('1', '2'))\n",
        "filled_df.ffill( inplace=True)\n"
      ],
      "metadata": {
        "collapsed": true,
        "id": "0W6A-mS2NRdQ"
      },
      "execution_count": null,
      "outputs": []
    },
    {
      "cell_type": "code",
      "source": [
        "filled_df['week'] = filled_df.index.to_series().apply(lambda x: x.isocalendar().week)"
      ],
      "metadata": {
        "id": "ab0z5U3mTbXC"
      },
      "execution_count": null,
      "outputs": []
    },
    {
      "cell_type": "code",
      "source": [
        "# filled_df['year'] = filled_df.index.year\n",
        "# filled_df['month'] = filled_df.index.month"
      ],
      "metadata": {
        "id": "dyX0RbnouI5K"
      },
      "execution_count": null,
      "outputs": []
    },
    {
      "cell_type": "code",
      "source": [
        "# filled_df['week_group'] = filled_df.groupby(['week', 'month']).ngroup()"
      ],
      "metadata": {
        "id": "IcRAFHDBopnC"
      },
      "execution_count": null,
      "outputs": []
    },
    {
      "cell_type": "code",
      "source": [
        "filled_df[:50]"
      ],
      "metadata": {
        "colab": {
          "base_uri": "https://localhost:8080/",
          "height": 1000
        },
        "collapsed": true,
        "id": "vOQoaE5RiK4b",
        "outputId": "2c2059b1-6c03-41e0-9739-e2f03bbbd13c"
      },
      "execution_count": null,
      "outputs": [
        {
          "output_type": "execute_result",
          "data": {
            "text/plain": [
              "                 Open       High        Low      Close  Adj Close  \\\n",
              "Date                                                                \n",
              "2012-01-03  14.621429  14.732143  14.607143  14.686786  12.402629   \n",
              "2012-01-04  14.642857  14.810000  14.617143  14.765714  12.469276   \n",
              "2012-01-05  14.819643  14.948214  14.738214  14.929643  12.607709   \n",
              "2012-01-06  14.991786  15.098214  14.972143  15.085714  12.739511   \n",
              "2012-01-09  15.196429  15.276786  15.048214  15.061786  12.719304   \n",
              "2012-01-10  15.211071  15.214286  15.053571  15.115714  12.764848   \n",
              "2012-01-11  15.095714  15.101786  14.975357  15.091071  12.744036   \n",
              "2012-01-12  15.081429  15.103571  14.955357  15.049643  12.709051   \n",
              "2012-01-13  14.989286  15.016071  14.952143  14.993214  12.661396   \n",
              "2012-01-16  14.989286  15.016071  14.952143  14.993214  12.661396   \n",
              "2012-01-17  15.150000  15.213929  15.105714  15.167857  12.808881   \n",
              "2012-01-18  15.248571  15.338214  15.225000  15.325357  12.941884   \n",
              "2012-01-19  15.362500  15.406071  15.232500  15.276786  12.900869   \n",
              "2012-01-20  15.267500  15.267857  14.991071  15.010714  12.676177   \n",
              "2012-01-23  15.095357  15.301786  15.082143  15.264643  12.890614   \n",
              "2012-01-24  15.182143  15.182143  14.983929  15.014643  12.679495   \n",
              "2012-01-25  16.230000  16.230356  15.847500  15.952143  13.471189   \n",
              "2012-01-26  16.012857  16.028214  15.826429  15.879643  13.409967   \n",
              "2012-01-27  15.869286  16.017143  15.848929  15.974286  13.489889   \n",
              "2012-01-30  15.918214  16.210714  15.906786  16.178928  13.662704   \n",
              "2012-01-31  16.271070  16.365713  16.181070  16.302856  13.767357   \n",
              "2012-02-01  16.371786  16.392500  16.269644  16.292500  13.758610   \n",
              "2012-02-02  16.282143  16.327499  16.213572  16.254286  13.726343   \n",
              "2012-02-03  16.332144  16.428572  16.270000  16.417143  13.863873   \n",
              "2012-02-06  16.370714  16.606428  16.364286  16.570356  13.993255   \n",
              "2012-02-07  16.616072  16.776787  16.592142  16.743929  14.139833   \n",
              "2012-02-08  16.803572  17.028214  16.775000  17.024286  14.376590   \n",
              "2012-02-09  17.170000  17.741072  17.162857  17.613214  14.873920   \n",
              "2012-02-10  17.534286  17.772142  17.448214  17.622143  14.881462   \n",
              "2012-02-13  17.840357  17.993929  17.753214  17.950001  15.158326   \n",
              "2012-02-14  18.023571  18.198570  17.928572  18.195000  15.365227   \n",
              "2012-02-15  18.366428  18.796070  17.746071  17.773930  15.009644   \n",
              "2012-02-16  17.553572  18.031786  17.379642  17.936071  15.146564   \n",
              "2012-02-17  17.968214  18.134644  17.867857  17.932858  15.143856   \n",
              "2012-02-20  17.968214  18.134644  17.867857  17.932858  15.143856   \n",
              "2012-02-21  18.102858  18.387501  18.004286  18.387501  15.527790   \n",
              "2012-02-22  18.324286  18.410357  18.181070  18.322857  15.473198   \n",
              "2012-02-23  18.395714  18.493929  18.196428  18.442499  15.574232   \n",
              "2012-02-24  18.559643  18.674999  18.522858  18.657499  15.755792   \n",
              "2012-02-27  18.618214  18.875000  18.438572  18.777143  15.856835   \n",
              "2012-02-28  18.855715  19.121786  18.780357  19.121786  16.147873   \n",
              "2012-02-29  19.341429  19.557501  19.132143  19.372856  16.359909   \n",
              "2012-03-01  19.577499  19.578930  19.241785  19.445356  16.421122   \n",
              "2012-03-02  19.437143  19.528570  19.375713  19.470715  16.442539   \n",
              "2012-03-05  19.479286  19.552856  18.785713  19.041430  16.080019   \n",
              "2012-03-06  18.702143  19.060356  18.436428  18.937857  15.992551   \n",
              "2012-03-07  19.171429  19.206429  18.689285  18.953215  16.005518   \n",
              "2012-03-08  19.096071  19.392500  19.004286  19.356787  16.346331   \n",
              "2012-03-09  19.436071  19.562143  19.396786  19.470358  16.442234   \n",
              "2012-03-12  19.606428  19.714287  19.535713  19.714287  16.648230   \n",
              "\n",
              "                  Volume  week  \n",
              "Date                            \n",
              "2012-01-03  3.022208e+08     1  \n",
              "2012-01-04  2.600220e+08     1  \n",
              "2012-01-05  2.712696e+08     1  \n",
              "2012-01-06  3.182928e+08     1  \n",
              "2012-01-09  3.940244e+08     2  \n",
              "2012-01-10  2.581964e+08     2  \n",
              "2012-01-11  2.150848e+08     2  \n",
              "2012-01-12  2.125872e+08     2  \n",
              "2012-01-13  2.260216e+08     2  \n",
              "2012-01-16  2.260216e+08     3  \n",
              "2012-01-17  2.428972e+08     3  \n",
              "2012-01-18  2.767912e+08     3  \n",
              "2012-01-19  2.617384e+08     3  \n",
              "2012-01-20  4.139744e+08     3  \n",
              "2012-01-23  3.060624e+08     4  \n",
              "2012-01-24  5.476380e+08     4  \n",
              "2012-01-25  9.583140e+08     4  \n",
              "2012-01-26  3.239852e+08     4  \n",
              "2012-01-27  2.997092e+08     4  \n",
              "2012-01-30  3.793412e+08     5  \n",
              "2012-01-31  3.916836e+08     5  \n",
              "2012-02-01  2.700460e+08     5  \n",
              "2012-02-02  1.867964e+08     5  \n",
              "2012-02-03  2.865996e+08     5  \n",
              "2012-02-06  2.494128e+08     6  \n",
              "2012-02-07  3.162236e+08     6  \n",
              "2012-02-08  4.078900e+08     6  \n",
              "2012-02-09  8.842148e+08     6  \n",
              "2012-02-10  6.313020e+08     6  \n",
              "2012-02-13  5.172160e+08     7  \n",
              "2012-02-14  4.603984e+08     7  \n",
              "2012-02-15  1.506120e+09     7  \n",
              "2012-02-16  9.445520e+08     7  \n",
              "2012-02-17  5.358052e+08     7  \n",
              "2012-02-20  5.358052e+08     8  \n",
              "2012-02-21  6.055952e+08     8  \n",
              "2012-02-22  4.833024e+08     8  \n",
              "2012-02-23  5.680276e+08     8  \n",
              "2012-02-24  4.150720e+08     8  \n",
              "2012-02-27  5.475820e+08     9  \n",
              "2012-02-28  6.003872e+08     9  \n",
              "2012-02-29  9.520112e+08     9  \n",
              "2012-03-01  6.832700e+08     9  \n",
              "2012-03-02  4.317124e+08     9  \n",
              "2012-03-05  8.091244e+08    10  \n",
              "2012-03-06  8.102388e+08    10  \n",
              "2012-03-07  7.985208e+08    10  \n",
              "2012-03-08  5.164572e+08    10  \n",
              "2012-03-09  4.189192e+08    10  \n",
              "2012-03-12  4.072824e+08    11  "
            ],
            "text/html": [
              "\n",
              "  <div id=\"df-cdb570dd-16f0-4f43-816e-c90b859ac9e2\" class=\"colab-df-container\">\n",
              "    <div>\n",
              "<style scoped>\n",
              "    .dataframe tbody tr th:only-of-type {\n",
              "        vertical-align: middle;\n",
              "    }\n",
              "\n",
              "    .dataframe tbody tr th {\n",
              "        vertical-align: top;\n",
              "    }\n",
              "\n",
              "    .dataframe thead th {\n",
              "        text-align: right;\n",
              "    }\n",
              "</style>\n",
              "<table border=\"1\" class=\"dataframe\">\n",
              "  <thead>\n",
              "    <tr style=\"text-align: right;\">\n",
              "      <th></th>\n",
              "      <th>Open</th>\n",
              "      <th>High</th>\n",
              "      <th>Low</th>\n",
              "      <th>Close</th>\n",
              "      <th>Adj Close</th>\n",
              "      <th>Volume</th>\n",
              "      <th>week</th>\n",
              "    </tr>\n",
              "    <tr>\n",
              "      <th>Date</th>\n",
              "      <th></th>\n",
              "      <th></th>\n",
              "      <th></th>\n",
              "      <th></th>\n",
              "      <th></th>\n",
              "      <th></th>\n",
              "      <th></th>\n",
              "    </tr>\n",
              "  </thead>\n",
              "  <tbody>\n",
              "    <tr>\n",
              "      <th>2012-01-03</th>\n",
              "      <td>14.621429</td>\n",
              "      <td>14.732143</td>\n",
              "      <td>14.607143</td>\n",
              "      <td>14.686786</td>\n",
              "      <td>12.402629</td>\n",
              "      <td>3.022208e+08</td>\n",
              "      <td>1</td>\n",
              "    </tr>\n",
              "    <tr>\n",
              "      <th>2012-01-04</th>\n",
              "      <td>14.642857</td>\n",
              "      <td>14.810000</td>\n",
              "      <td>14.617143</td>\n",
              "      <td>14.765714</td>\n",
              "      <td>12.469276</td>\n",
              "      <td>2.600220e+08</td>\n",
              "      <td>1</td>\n",
              "    </tr>\n",
              "    <tr>\n",
              "      <th>2012-01-05</th>\n",
              "      <td>14.819643</td>\n",
              "      <td>14.948214</td>\n",
              "      <td>14.738214</td>\n",
              "      <td>14.929643</td>\n",
              "      <td>12.607709</td>\n",
              "      <td>2.712696e+08</td>\n",
              "      <td>1</td>\n",
              "    </tr>\n",
              "    <tr>\n",
              "      <th>2012-01-06</th>\n",
              "      <td>14.991786</td>\n",
              "      <td>15.098214</td>\n",
              "      <td>14.972143</td>\n",
              "      <td>15.085714</td>\n",
              "      <td>12.739511</td>\n",
              "      <td>3.182928e+08</td>\n",
              "      <td>1</td>\n",
              "    </tr>\n",
              "    <tr>\n",
              "      <th>2012-01-09</th>\n",
              "      <td>15.196429</td>\n",
              "      <td>15.276786</td>\n",
              "      <td>15.048214</td>\n",
              "      <td>15.061786</td>\n",
              "      <td>12.719304</td>\n",
              "      <td>3.940244e+08</td>\n",
              "      <td>2</td>\n",
              "    </tr>\n",
              "    <tr>\n",
              "      <th>2012-01-10</th>\n",
              "      <td>15.211071</td>\n",
              "      <td>15.214286</td>\n",
              "      <td>15.053571</td>\n",
              "      <td>15.115714</td>\n",
              "      <td>12.764848</td>\n",
              "      <td>2.581964e+08</td>\n",
              "      <td>2</td>\n",
              "    </tr>\n",
              "    <tr>\n",
              "      <th>2012-01-11</th>\n",
              "      <td>15.095714</td>\n",
              "      <td>15.101786</td>\n",
              "      <td>14.975357</td>\n",
              "      <td>15.091071</td>\n",
              "      <td>12.744036</td>\n",
              "      <td>2.150848e+08</td>\n",
              "      <td>2</td>\n",
              "    </tr>\n",
              "    <tr>\n",
              "      <th>2012-01-12</th>\n",
              "      <td>15.081429</td>\n",
              "      <td>15.103571</td>\n",
              "      <td>14.955357</td>\n",
              "      <td>15.049643</td>\n",
              "      <td>12.709051</td>\n",
              "      <td>2.125872e+08</td>\n",
              "      <td>2</td>\n",
              "    </tr>\n",
              "    <tr>\n",
              "      <th>2012-01-13</th>\n",
              "      <td>14.989286</td>\n",
              "      <td>15.016071</td>\n",
              "      <td>14.952143</td>\n",
              "      <td>14.993214</td>\n",
              "      <td>12.661396</td>\n",
              "      <td>2.260216e+08</td>\n",
              "      <td>2</td>\n",
              "    </tr>\n",
              "    <tr>\n",
              "      <th>2012-01-16</th>\n",
              "      <td>14.989286</td>\n",
              "      <td>15.016071</td>\n",
              "      <td>14.952143</td>\n",
              "      <td>14.993214</td>\n",
              "      <td>12.661396</td>\n",
              "      <td>2.260216e+08</td>\n",
              "      <td>3</td>\n",
              "    </tr>\n",
              "    <tr>\n",
              "      <th>2012-01-17</th>\n",
              "      <td>15.150000</td>\n",
              "      <td>15.213929</td>\n",
              "      <td>15.105714</td>\n",
              "      <td>15.167857</td>\n",
              "      <td>12.808881</td>\n",
              "      <td>2.428972e+08</td>\n",
              "      <td>3</td>\n",
              "    </tr>\n",
              "    <tr>\n",
              "      <th>2012-01-18</th>\n",
              "      <td>15.248571</td>\n",
              "      <td>15.338214</td>\n",
              "      <td>15.225000</td>\n",
              "      <td>15.325357</td>\n",
              "      <td>12.941884</td>\n",
              "      <td>2.767912e+08</td>\n",
              "      <td>3</td>\n",
              "    </tr>\n",
              "    <tr>\n",
              "      <th>2012-01-19</th>\n",
              "      <td>15.362500</td>\n",
              "      <td>15.406071</td>\n",
              "      <td>15.232500</td>\n",
              "      <td>15.276786</td>\n",
              "      <td>12.900869</td>\n",
              "      <td>2.617384e+08</td>\n",
              "      <td>3</td>\n",
              "    </tr>\n",
              "    <tr>\n",
              "      <th>2012-01-20</th>\n",
              "      <td>15.267500</td>\n",
              "      <td>15.267857</td>\n",
              "      <td>14.991071</td>\n",
              "      <td>15.010714</td>\n",
              "      <td>12.676177</td>\n",
              "      <td>4.139744e+08</td>\n",
              "      <td>3</td>\n",
              "    </tr>\n",
              "    <tr>\n",
              "      <th>2012-01-23</th>\n",
              "      <td>15.095357</td>\n",
              "      <td>15.301786</td>\n",
              "      <td>15.082143</td>\n",
              "      <td>15.264643</td>\n",
              "      <td>12.890614</td>\n",
              "      <td>3.060624e+08</td>\n",
              "      <td>4</td>\n",
              "    </tr>\n",
              "    <tr>\n",
              "      <th>2012-01-24</th>\n",
              "      <td>15.182143</td>\n",
              "      <td>15.182143</td>\n",
              "      <td>14.983929</td>\n",
              "      <td>15.014643</td>\n",
              "      <td>12.679495</td>\n",
              "      <td>5.476380e+08</td>\n",
              "      <td>4</td>\n",
              "    </tr>\n",
              "    <tr>\n",
              "      <th>2012-01-25</th>\n",
              "      <td>16.230000</td>\n",
              "      <td>16.230356</td>\n",
              "      <td>15.847500</td>\n",
              "      <td>15.952143</td>\n",
              "      <td>13.471189</td>\n",
              "      <td>9.583140e+08</td>\n",
              "      <td>4</td>\n",
              "    </tr>\n",
              "    <tr>\n",
              "      <th>2012-01-26</th>\n",
              "      <td>16.012857</td>\n",
              "      <td>16.028214</td>\n",
              "      <td>15.826429</td>\n",
              "      <td>15.879643</td>\n",
              "      <td>13.409967</td>\n",
              "      <td>3.239852e+08</td>\n",
              "      <td>4</td>\n",
              "    </tr>\n",
              "    <tr>\n",
              "      <th>2012-01-27</th>\n",
              "      <td>15.869286</td>\n",
              "      <td>16.017143</td>\n",
              "      <td>15.848929</td>\n",
              "      <td>15.974286</td>\n",
              "      <td>13.489889</td>\n",
              "      <td>2.997092e+08</td>\n",
              "      <td>4</td>\n",
              "    </tr>\n",
              "    <tr>\n",
              "      <th>2012-01-30</th>\n",
              "      <td>15.918214</td>\n",
              "      <td>16.210714</td>\n",
              "      <td>15.906786</td>\n",
              "      <td>16.178928</td>\n",
              "      <td>13.662704</td>\n",
              "      <td>3.793412e+08</td>\n",
              "      <td>5</td>\n",
              "    </tr>\n",
              "    <tr>\n",
              "      <th>2012-01-31</th>\n",
              "      <td>16.271070</td>\n",
              "      <td>16.365713</td>\n",
              "      <td>16.181070</td>\n",
              "      <td>16.302856</td>\n",
              "      <td>13.767357</td>\n",
              "      <td>3.916836e+08</td>\n",
              "      <td>5</td>\n",
              "    </tr>\n",
              "    <tr>\n",
              "      <th>2012-02-01</th>\n",
              "      <td>16.371786</td>\n",
              "      <td>16.392500</td>\n",
              "      <td>16.269644</td>\n",
              "      <td>16.292500</td>\n",
              "      <td>13.758610</td>\n",
              "      <td>2.700460e+08</td>\n",
              "      <td>5</td>\n",
              "    </tr>\n",
              "    <tr>\n",
              "      <th>2012-02-02</th>\n",
              "      <td>16.282143</td>\n",
              "      <td>16.327499</td>\n",
              "      <td>16.213572</td>\n",
              "      <td>16.254286</td>\n",
              "      <td>13.726343</td>\n",
              "      <td>1.867964e+08</td>\n",
              "      <td>5</td>\n",
              "    </tr>\n",
              "    <tr>\n",
              "      <th>2012-02-03</th>\n",
              "      <td>16.332144</td>\n",
              "      <td>16.428572</td>\n",
              "      <td>16.270000</td>\n",
              "      <td>16.417143</td>\n",
              "      <td>13.863873</td>\n",
              "      <td>2.865996e+08</td>\n",
              "      <td>5</td>\n",
              "    </tr>\n",
              "    <tr>\n",
              "      <th>2012-02-06</th>\n",
              "      <td>16.370714</td>\n",
              "      <td>16.606428</td>\n",
              "      <td>16.364286</td>\n",
              "      <td>16.570356</td>\n",
              "      <td>13.993255</td>\n",
              "      <td>2.494128e+08</td>\n",
              "      <td>6</td>\n",
              "    </tr>\n",
              "    <tr>\n",
              "      <th>2012-02-07</th>\n",
              "      <td>16.616072</td>\n",
              "      <td>16.776787</td>\n",
              "      <td>16.592142</td>\n",
              "      <td>16.743929</td>\n",
              "      <td>14.139833</td>\n",
              "      <td>3.162236e+08</td>\n",
              "      <td>6</td>\n",
              "    </tr>\n",
              "    <tr>\n",
              "      <th>2012-02-08</th>\n",
              "      <td>16.803572</td>\n",
              "      <td>17.028214</td>\n",
              "      <td>16.775000</td>\n",
              "      <td>17.024286</td>\n",
              "      <td>14.376590</td>\n",
              "      <td>4.078900e+08</td>\n",
              "      <td>6</td>\n",
              "    </tr>\n",
              "    <tr>\n",
              "      <th>2012-02-09</th>\n",
              "      <td>17.170000</td>\n",
              "      <td>17.741072</td>\n",
              "      <td>17.162857</td>\n",
              "      <td>17.613214</td>\n",
              "      <td>14.873920</td>\n",
              "      <td>8.842148e+08</td>\n",
              "      <td>6</td>\n",
              "    </tr>\n",
              "    <tr>\n",
              "      <th>2012-02-10</th>\n",
              "      <td>17.534286</td>\n",
              "      <td>17.772142</td>\n",
              "      <td>17.448214</td>\n",
              "      <td>17.622143</td>\n",
              "      <td>14.881462</td>\n",
              "      <td>6.313020e+08</td>\n",
              "      <td>6</td>\n",
              "    </tr>\n",
              "    <tr>\n",
              "      <th>2012-02-13</th>\n",
              "      <td>17.840357</td>\n",
              "      <td>17.993929</td>\n",
              "      <td>17.753214</td>\n",
              "      <td>17.950001</td>\n",
              "      <td>15.158326</td>\n",
              "      <td>5.172160e+08</td>\n",
              "      <td>7</td>\n",
              "    </tr>\n",
              "    <tr>\n",
              "      <th>2012-02-14</th>\n",
              "      <td>18.023571</td>\n",
              "      <td>18.198570</td>\n",
              "      <td>17.928572</td>\n",
              "      <td>18.195000</td>\n",
              "      <td>15.365227</td>\n",
              "      <td>4.603984e+08</td>\n",
              "      <td>7</td>\n",
              "    </tr>\n",
              "    <tr>\n",
              "      <th>2012-02-15</th>\n",
              "      <td>18.366428</td>\n",
              "      <td>18.796070</td>\n",
              "      <td>17.746071</td>\n",
              "      <td>17.773930</td>\n",
              "      <td>15.009644</td>\n",
              "      <td>1.506120e+09</td>\n",
              "      <td>7</td>\n",
              "    </tr>\n",
              "    <tr>\n",
              "      <th>2012-02-16</th>\n",
              "      <td>17.553572</td>\n",
              "      <td>18.031786</td>\n",
              "      <td>17.379642</td>\n",
              "      <td>17.936071</td>\n",
              "      <td>15.146564</td>\n",
              "      <td>9.445520e+08</td>\n",
              "      <td>7</td>\n",
              "    </tr>\n",
              "    <tr>\n",
              "      <th>2012-02-17</th>\n",
              "      <td>17.968214</td>\n",
              "      <td>18.134644</td>\n",
              "      <td>17.867857</td>\n",
              "      <td>17.932858</td>\n",
              "      <td>15.143856</td>\n",
              "      <td>5.358052e+08</td>\n",
              "      <td>7</td>\n",
              "    </tr>\n",
              "    <tr>\n",
              "      <th>2012-02-20</th>\n",
              "      <td>17.968214</td>\n",
              "      <td>18.134644</td>\n",
              "      <td>17.867857</td>\n",
              "      <td>17.932858</td>\n",
              "      <td>15.143856</td>\n",
              "      <td>5.358052e+08</td>\n",
              "      <td>8</td>\n",
              "    </tr>\n",
              "    <tr>\n",
              "      <th>2012-02-21</th>\n",
              "      <td>18.102858</td>\n",
              "      <td>18.387501</td>\n",
              "      <td>18.004286</td>\n",
              "      <td>18.387501</td>\n",
              "      <td>15.527790</td>\n",
              "      <td>6.055952e+08</td>\n",
              "      <td>8</td>\n",
              "    </tr>\n",
              "    <tr>\n",
              "      <th>2012-02-22</th>\n",
              "      <td>18.324286</td>\n",
              "      <td>18.410357</td>\n",
              "      <td>18.181070</td>\n",
              "      <td>18.322857</td>\n",
              "      <td>15.473198</td>\n",
              "      <td>4.833024e+08</td>\n",
              "      <td>8</td>\n",
              "    </tr>\n",
              "    <tr>\n",
              "      <th>2012-02-23</th>\n",
              "      <td>18.395714</td>\n",
              "      <td>18.493929</td>\n",
              "      <td>18.196428</td>\n",
              "      <td>18.442499</td>\n",
              "      <td>15.574232</td>\n",
              "      <td>5.680276e+08</td>\n",
              "      <td>8</td>\n",
              "    </tr>\n",
              "    <tr>\n",
              "      <th>2012-02-24</th>\n",
              "      <td>18.559643</td>\n",
              "      <td>18.674999</td>\n",
              "      <td>18.522858</td>\n",
              "      <td>18.657499</td>\n",
              "      <td>15.755792</td>\n",
              "      <td>4.150720e+08</td>\n",
              "      <td>8</td>\n",
              "    </tr>\n",
              "    <tr>\n",
              "      <th>2012-02-27</th>\n",
              "      <td>18.618214</td>\n",
              "      <td>18.875000</td>\n",
              "      <td>18.438572</td>\n",
              "      <td>18.777143</td>\n",
              "      <td>15.856835</td>\n",
              "      <td>5.475820e+08</td>\n",
              "      <td>9</td>\n",
              "    </tr>\n",
              "    <tr>\n",
              "      <th>2012-02-28</th>\n",
              "      <td>18.855715</td>\n",
              "      <td>19.121786</td>\n",
              "      <td>18.780357</td>\n",
              "      <td>19.121786</td>\n",
              "      <td>16.147873</td>\n",
              "      <td>6.003872e+08</td>\n",
              "      <td>9</td>\n",
              "    </tr>\n",
              "    <tr>\n",
              "      <th>2012-02-29</th>\n",
              "      <td>19.341429</td>\n",
              "      <td>19.557501</td>\n",
              "      <td>19.132143</td>\n",
              "      <td>19.372856</td>\n",
              "      <td>16.359909</td>\n",
              "      <td>9.520112e+08</td>\n",
              "      <td>9</td>\n",
              "    </tr>\n",
              "    <tr>\n",
              "      <th>2012-03-01</th>\n",
              "      <td>19.577499</td>\n",
              "      <td>19.578930</td>\n",
              "      <td>19.241785</td>\n",
              "      <td>19.445356</td>\n",
              "      <td>16.421122</td>\n",
              "      <td>6.832700e+08</td>\n",
              "      <td>9</td>\n",
              "    </tr>\n",
              "    <tr>\n",
              "      <th>2012-03-02</th>\n",
              "      <td>19.437143</td>\n",
              "      <td>19.528570</td>\n",
              "      <td>19.375713</td>\n",
              "      <td>19.470715</td>\n",
              "      <td>16.442539</td>\n",
              "      <td>4.317124e+08</td>\n",
              "      <td>9</td>\n",
              "    </tr>\n",
              "    <tr>\n",
              "      <th>2012-03-05</th>\n",
              "      <td>19.479286</td>\n",
              "      <td>19.552856</td>\n",
              "      <td>18.785713</td>\n",
              "      <td>19.041430</td>\n",
              "      <td>16.080019</td>\n",
              "      <td>8.091244e+08</td>\n",
              "      <td>10</td>\n",
              "    </tr>\n",
              "    <tr>\n",
              "      <th>2012-03-06</th>\n",
              "      <td>18.702143</td>\n",
              "      <td>19.060356</td>\n",
              "      <td>18.436428</td>\n",
              "      <td>18.937857</td>\n",
              "      <td>15.992551</td>\n",
              "      <td>8.102388e+08</td>\n",
              "      <td>10</td>\n",
              "    </tr>\n",
              "    <tr>\n",
              "      <th>2012-03-07</th>\n",
              "      <td>19.171429</td>\n",
              "      <td>19.206429</td>\n",
              "      <td>18.689285</td>\n",
              "      <td>18.953215</td>\n",
              "      <td>16.005518</td>\n",
              "      <td>7.985208e+08</td>\n",
              "      <td>10</td>\n",
              "    </tr>\n",
              "    <tr>\n",
              "      <th>2012-03-08</th>\n",
              "      <td>19.096071</td>\n",
              "      <td>19.392500</td>\n",
              "      <td>19.004286</td>\n",
              "      <td>19.356787</td>\n",
              "      <td>16.346331</td>\n",
              "      <td>5.164572e+08</td>\n",
              "      <td>10</td>\n",
              "    </tr>\n",
              "    <tr>\n",
              "      <th>2012-03-09</th>\n",
              "      <td>19.436071</td>\n",
              "      <td>19.562143</td>\n",
              "      <td>19.396786</td>\n",
              "      <td>19.470358</td>\n",
              "      <td>16.442234</td>\n",
              "      <td>4.189192e+08</td>\n",
              "      <td>10</td>\n",
              "    </tr>\n",
              "    <tr>\n",
              "      <th>2012-03-12</th>\n",
              "      <td>19.606428</td>\n",
              "      <td>19.714287</td>\n",
              "      <td>19.535713</td>\n",
              "      <td>19.714287</td>\n",
              "      <td>16.648230</td>\n",
              "      <td>4.072824e+08</td>\n",
              "      <td>11</td>\n",
              "    </tr>\n",
              "  </tbody>\n",
              "</table>\n",
              "</div>\n",
              "    <div class=\"colab-df-buttons\">\n",
              "\n",
              "  <div class=\"colab-df-container\">\n",
              "    <button class=\"colab-df-convert\" onclick=\"convertToInteractive('df-cdb570dd-16f0-4f43-816e-c90b859ac9e2')\"\n",
              "            title=\"Convert this dataframe to an interactive table.\"\n",
              "            style=\"display:none;\">\n",
              "\n",
              "  <svg xmlns=\"http://www.w3.org/2000/svg\" height=\"24px\" viewBox=\"0 -960 960 960\">\n",
              "    <path d=\"M120-120v-720h720v720H120Zm60-500h600v-160H180v160Zm220 220h160v-160H400v160Zm0 220h160v-160H400v160ZM180-400h160v-160H180v160Zm440 0h160v-160H620v160ZM180-180h160v-160H180v160Zm440 0h160v-160H620v160Z\"/>\n",
              "  </svg>\n",
              "    </button>\n",
              "\n",
              "  <style>\n",
              "    .colab-df-container {\n",
              "      display:flex;\n",
              "      gap: 12px;\n",
              "    }\n",
              "\n",
              "    .colab-df-convert {\n",
              "      background-color: #E8F0FE;\n",
              "      border: none;\n",
              "      border-radius: 50%;\n",
              "      cursor: pointer;\n",
              "      display: none;\n",
              "      fill: #1967D2;\n",
              "      height: 32px;\n",
              "      padding: 0 0 0 0;\n",
              "      width: 32px;\n",
              "    }\n",
              "\n",
              "    .colab-df-convert:hover {\n",
              "      background-color: #E2EBFA;\n",
              "      box-shadow: 0px 1px 2px rgba(60, 64, 67, 0.3), 0px 1px 3px 1px rgba(60, 64, 67, 0.15);\n",
              "      fill: #174EA6;\n",
              "    }\n",
              "\n",
              "    .colab-df-buttons div {\n",
              "      margin-bottom: 4px;\n",
              "    }\n",
              "\n",
              "    [theme=dark] .colab-df-convert {\n",
              "      background-color: #3B4455;\n",
              "      fill: #D2E3FC;\n",
              "    }\n",
              "\n",
              "    [theme=dark] .colab-df-convert:hover {\n",
              "      background-color: #434B5C;\n",
              "      box-shadow: 0px 1px 3px 1px rgba(0, 0, 0, 0.15);\n",
              "      filter: drop-shadow(0px 1px 2px rgba(0, 0, 0, 0.3));\n",
              "      fill: #FFFFFF;\n",
              "    }\n",
              "  </style>\n",
              "\n",
              "    <script>\n",
              "      const buttonEl =\n",
              "        document.querySelector('#df-cdb570dd-16f0-4f43-816e-c90b859ac9e2 button.colab-df-convert');\n",
              "      buttonEl.style.display =\n",
              "        google.colab.kernel.accessAllowed ? 'block' : 'none';\n",
              "\n",
              "      async function convertToInteractive(key) {\n",
              "        const element = document.querySelector('#df-cdb570dd-16f0-4f43-816e-c90b859ac9e2');\n",
              "        const dataTable =\n",
              "          await google.colab.kernel.invokeFunction('convertToInteractive',\n",
              "                                                    [key], {});\n",
              "        if (!dataTable) return;\n",
              "\n",
              "        const docLinkHtml = 'Like what you see? Visit the ' +\n",
              "          '<a target=\"_blank\" href=https://colab.research.google.com/notebooks/data_table.ipynb>data table notebook</a>'\n",
              "          + ' to learn more about interactive tables.';\n",
              "        element.innerHTML = '';\n",
              "        dataTable['output_type'] = 'display_data';\n",
              "        await google.colab.output.renderOutput(dataTable, element);\n",
              "        const docLink = document.createElement('div');\n",
              "        docLink.innerHTML = docLinkHtml;\n",
              "        element.appendChild(docLink);\n",
              "      }\n",
              "    </script>\n",
              "  </div>\n",
              "\n",
              "\n",
              "<div id=\"df-6f450dda-cd78-4a47-a842-0bebb1a98520\">\n",
              "  <button class=\"colab-df-quickchart\" onclick=\"quickchart('df-6f450dda-cd78-4a47-a842-0bebb1a98520')\"\n",
              "            title=\"Suggest charts\"\n",
              "            style=\"display:none;\">\n",
              "\n",
              "<svg xmlns=\"http://www.w3.org/2000/svg\" height=\"24px\"viewBox=\"0 0 24 24\"\n",
              "     width=\"24px\">\n",
              "    <g>\n",
              "        <path d=\"M19 3H5c-1.1 0-2 .9-2 2v14c0 1.1.9 2 2 2h14c1.1 0 2-.9 2-2V5c0-1.1-.9-2-2-2zM9 17H7v-7h2v7zm4 0h-2V7h2v10zm4 0h-2v-4h2v4z\"/>\n",
              "    </g>\n",
              "</svg>\n",
              "  </button>\n",
              "\n",
              "<style>\n",
              "  .colab-df-quickchart {\n",
              "      --bg-color: #E8F0FE;\n",
              "      --fill-color: #1967D2;\n",
              "      --hover-bg-color: #E2EBFA;\n",
              "      --hover-fill-color: #174EA6;\n",
              "      --disabled-fill-color: #AAA;\n",
              "      --disabled-bg-color: #DDD;\n",
              "  }\n",
              "\n",
              "  [theme=dark] .colab-df-quickchart {\n",
              "      --bg-color: #3B4455;\n",
              "      --fill-color: #D2E3FC;\n",
              "      --hover-bg-color: #434B5C;\n",
              "      --hover-fill-color: #FFFFFF;\n",
              "      --disabled-bg-color: #3B4455;\n",
              "      --disabled-fill-color: #666;\n",
              "  }\n",
              "\n",
              "  .colab-df-quickchart {\n",
              "    background-color: var(--bg-color);\n",
              "    border: none;\n",
              "    border-radius: 50%;\n",
              "    cursor: pointer;\n",
              "    display: none;\n",
              "    fill: var(--fill-color);\n",
              "    height: 32px;\n",
              "    padding: 0;\n",
              "    width: 32px;\n",
              "  }\n",
              "\n",
              "  .colab-df-quickchart:hover {\n",
              "    background-color: var(--hover-bg-color);\n",
              "    box-shadow: 0 1px 2px rgba(60, 64, 67, 0.3), 0 1px 3px 1px rgba(60, 64, 67, 0.15);\n",
              "    fill: var(--button-hover-fill-color);\n",
              "  }\n",
              "\n",
              "  .colab-df-quickchart-complete:disabled,\n",
              "  .colab-df-quickchart-complete:disabled:hover {\n",
              "    background-color: var(--disabled-bg-color);\n",
              "    fill: var(--disabled-fill-color);\n",
              "    box-shadow: none;\n",
              "  }\n",
              "\n",
              "  .colab-df-spinner {\n",
              "    border: 2px solid var(--fill-color);\n",
              "    border-color: transparent;\n",
              "    border-bottom-color: var(--fill-color);\n",
              "    animation:\n",
              "      spin 1s steps(1) infinite;\n",
              "  }\n",
              "\n",
              "  @keyframes spin {\n",
              "    0% {\n",
              "      border-color: transparent;\n",
              "      border-bottom-color: var(--fill-color);\n",
              "      border-left-color: var(--fill-color);\n",
              "    }\n",
              "    20% {\n",
              "      border-color: transparent;\n",
              "      border-left-color: var(--fill-color);\n",
              "      border-top-color: var(--fill-color);\n",
              "    }\n",
              "    30% {\n",
              "      border-color: transparent;\n",
              "      border-left-color: var(--fill-color);\n",
              "      border-top-color: var(--fill-color);\n",
              "      border-right-color: var(--fill-color);\n",
              "    }\n",
              "    40% {\n",
              "      border-color: transparent;\n",
              "      border-right-color: var(--fill-color);\n",
              "      border-top-color: var(--fill-color);\n",
              "    }\n",
              "    60% {\n",
              "      border-color: transparent;\n",
              "      border-right-color: var(--fill-color);\n",
              "    }\n",
              "    80% {\n",
              "      border-color: transparent;\n",
              "      border-right-color: var(--fill-color);\n",
              "      border-bottom-color: var(--fill-color);\n",
              "    }\n",
              "    90% {\n",
              "      border-color: transparent;\n",
              "      border-bottom-color: var(--fill-color);\n",
              "    }\n",
              "  }\n",
              "</style>\n",
              "\n",
              "  <script>\n",
              "    async function quickchart(key) {\n",
              "      const quickchartButtonEl =\n",
              "        document.querySelector('#' + key + ' button');\n",
              "      quickchartButtonEl.disabled = true;  // To prevent multiple clicks.\n",
              "      quickchartButtonEl.classList.add('colab-df-spinner');\n",
              "      try {\n",
              "        const charts = await google.colab.kernel.invokeFunction(\n",
              "            'suggestCharts', [key], {});\n",
              "      } catch (error) {\n",
              "        console.error('Error during call to suggestCharts:', error);\n",
              "      }\n",
              "      quickchartButtonEl.classList.remove('colab-df-spinner');\n",
              "      quickchartButtonEl.classList.add('colab-df-quickchart-complete');\n",
              "    }\n",
              "    (() => {\n",
              "      let quickchartButtonEl =\n",
              "        document.querySelector('#df-6f450dda-cd78-4a47-a842-0bebb1a98520 button');\n",
              "      quickchartButtonEl.style.display =\n",
              "        google.colab.kernel.accessAllowed ? 'block' : 'none';\n",
              "    })();\n",
              "  </script>\n",
              "</div>\n",
              "\n",
              "    </div>\n",
              "  </div>\n"
            ],
            "application/vnd.google.colaboratory.intrinsic+json": {
              "type": "dataframe",
              "summary": "{\n  \"name\": \"filled_df[:50]\",\n  \"rows\": 50,\n  \"fields\": [\n    {\n      \"column\": \"Date\",\n      \"properties\": {\n        \"dtype\": \"date\",\n        \"min\": \"2012-01-03 00:00:00\",\n        \"max\": \"2012-03-12 00:00:00\",\n        \"num_unique_values\": 50,\n        \"samples\": [\n          \"2012-01-20 00:00:00\",\n          \"2012-02-27 00:00:00\",\n          \"2012-02-14 00:00:00\"\n        ],\n        \"semantic_type\": \"\",\n        \"description\": \"\"\n      }\n    },\n    {\n      \"column\": \"Open\",\n      \"properties\": {\n        \"dtype\": \"number\",\n        \"std\": 1.6644602330444958,\n        \"min\": 14.621429443359375,\n        \"max\": 19.606428146362305,\n        \"num_unique_values\": 48,\n        \"samples\": [\n          17.534286499023438,\n          19.577499389648438,\n          17.170000076293945\n        ],\n        \"semantic_type\": \"\",\n        \"description\": \"\"\n      }\n    },\n    {\n      \"column\": \"High\",\n      \"properties\": {\n        \"dtype\": \"number\",\n        \"std\": 1.711034794538536,\n        \"min\": 14.73214340209961,\n        \"max\": 19.71428680419922,\n        \"num_unique_values\": 48,\n        \"samples\": [\n          17.77214241027832,\n          19.578929901123047,\n          17.741071701049805\n        ],\n        \"semantic_type\": \"\",\n        \"description\": \"\"\n      }\n    },\n    {\n      \"column\": \"Low\",\n      \"properties\": {\n        \"dtype\": \"number\",\n        \"std\": 1.6142966834177737,\n        \"min\": 14.60714340209961,\n        \"max\": 19.53571319580078,\n        \"num_unique_values\": 48,\n        \"samples\": [\n          17.448213577270508,\n          19.241785049438477,\n          17.162857055664062\n        ],\n        \"semantic_type\": \"\",\n        \"description\": \"\"\n      }\n    },\n    {\n      \"column\": \"Close\",\n      \"properties\": {\n        \"dtype\": \"number\",\n        \"std\": 1.6798938788546929,\n        \"min\": 14.686785697937012,\n        \"max\": 19.71428680419922,\n        \"num_unique_values\": 48,\n        \"samples\": [\n          17.622142791748047,\n          19.445356369018555,\n          17.61321449279785\n        ],\n        \"semantic_type\": \"\",\n        \"description\": \"\"\n      }\n    },\n    {\n      \"column\": \"Adj Close\",\n      \"properties\": {\n        \"dtype\": \"number\",\n        \"std\": 1.4186292924952317,\n        \"min\": 12.402628898620605,\n        \"max\": 16.648229598999023,\n        \"num_unique_values\": 48,\n        \"samples\": [\n          14.881462097167969,\n          16.42112159729004,\n          14.873920440673828\n        ],\n        \"semantic_type\": \"\",\n        \"description\": \"\"\n      }\n    },\n    {\n      \"column\": \"Volume\",\n      \"properties\": {\n        \"dtype\": \"number\",\n        \"std\": 260401424.95403668,\n        \"min\": 186796400.0,\n        \"max\": 1506120000.0,\n        \"num_unique_values\": 48,\n        \"samples\": [\n          631302000.0,\n          683270000.0,\n          884214800.0\n        ],\n        \"semantic_type\": \"\",\n        \"description\": \"\"\n      }\n    },\n    {\n      \"column\": \"week\",\n      \"properties\": {\n        \"dtype\": \"number\",\n        \"std\": 2,\n        \"min\": 1,\n        \"max\": 11,\n        \"num_unique_values\": 11,\n        \"samples\": [\n          6,\n          1,\n          10\n        ],\n        \"semantic_type\": \"\",\n        \"description\": \"\"\n      }\n    }\n  ]\n}"
            }
          },
          "metadata": {},
          "execution_count": 62
        }
      ]
    },
    {
      "cell_type": "code",
      "source": [
        "filled_df.columns\n"
      ],
      "metadata": {
        "colab": {
          "base_uri": "https://localhost:8080/"
        },
        "id": "XhelxfEenTzQ",
        "outputId": "ae3d2493-93ed-4de1-8fec-e1a6537b7644"
      },
      "execution_count": null,
      "outputs": [
        {
          "output_type": "execute_result",
          "data": {
            "text/plain": [
              "Index(['Open', 'High', 'Low', 'Close', 'Adj Close', 'Volume', 'week'], dtype='object')"
            ]
          },
          "metadata": {},
          "execution_count": 63
        }
      ]
    },
    {
      "cell_type": "code",
      "source": [
        "filled_df.drop(['Open', 'High', 'Low','Adj Close', 'Volume'], axis=1)\n",
        "filled_df = filled_df[4:]"
      ],
      "metadata": {
        "collapsed": true,
        "id": "6R9eRNcXma-H"
      },
      "execution_count": null,
      "outputs": []
    },
    {
      "cell_type": "code",
      "source": [
        "week_test = np.reshape(filled_df['week'], (int(filled_df['week'].shape[0]/5), 5))\n",
        "\n",
        "for i in range(0,week_test.shape[0]):\n",
        "  if len(set(week_test[i])) == 1 :\n",
        "    continue\n",
        "  else:\n",
        "    print(i)"
      ],
      "metadata": {
        "id": "rG7AZIernr6W"
      },
      "execution_count": null,
      "outputs": []
    },
    {
      "cell_type": "code",
      "source": [
        "mondays = filled_df[filled_df.index.weekday == 0 ]"
      ],
      "metadata": {
        "id": "QpPpZpI-4yvt"
      },
      "execution_count": null,
      "outputs": []
    },
    {
      "cell_type": "code",
      "source": [],
      "metadata": {
        "collapsed": true,
        "id": "gFF7ofCr3ovB"
      },
      "execution_count": null,
      "outputs": []
    },
    {
      "cell_type": "code",
      "source": [
        "filled_df.tail()"
      ],
      "metadata": {
        "id": "aWIv7b2-gC-n",
        "colab": {
          "base_uri": "https://localhost:8080/",
          "height": 237
        },
        "collapsed": true,
        "outputId": "c7fee587-26d9-463e-97d5-53f76b917f46"
      },
      "execution_count": null,
      "outputs": [
        {
          "output_type": "execute_result",
          "data": {
            "text/plain": [
              "                  Open        High         Low       Close   Adj Close  \\\n",
              "Date                                                                     \n",
              "2021-12-27  177.089996  180.419998  177.070007  180.330002  177.618866   \n",
              "2021-12-28  180.160004  181.330002  178.529999  179.289993  176.594498   \n",
              "2021-12-29  179.330002  180.630005  178.139999  179.380005  176.683167   \n",
              "2021-12-30  179.470001  180.570007  178.089996  178.199997  175.520920   \n",
              "2021-12-31  178.089996  179.229996  177.259995  177.570007  174.900360   \n",
              "\n",
              "                Volume  week  \n",
              "Date                          \n",
              "2021-12-27  74919600.0    52  \n",
              "2021-12-28  79144300.0    52  \n",
              "2021-12-29  62348900.0    52  \n",
              "2021-12-30  59773000.0    52  \n",
              "2021-12-31  64062300.0    52  "
            ],
            "text/html": [
              "\n",
              "  <div id=\"df-35c8c9eb-6c8f-4e44-a2b6-82d6ee57808e\" class=\"colab-df-container\">\n",
              "    <div>\n",
              "<style scoped>\n",
              "    .dataframe tbody tr th:only-of-type {\n",
              "        vertical-align: middle;\n",
              "    }\n",
              "\n",
              "    .dataframe tbody tr th {\n",
              "        vertical-align: top;\n",
              "    }\n",
              "\n",
              "    .dataframe thead th {\n",
              "        text-align: right;\n",
              "    }\n",
              "</style>\n",
              "<table border=\"1\" class=\"dataframe\">\n",
              "  <thead>\n",
              "    <tr style=\"text-align: right;\">\n",
              "      <th></th>\n",
              "      <th>Open</th>\n",
              "      <th>High</th>\n",
              "      <th>Low</th>\n",
              "      <th>Close</th>\n",
              "      <th>Adj Close</th>\n",
              "      <th>Volume</th>\n",
              "      <th>week</th>\n",
              "    </tr>\n",
              "    <tr>\n",
              "      <th>Date</th>\n",
              "      <th></th>\n",
              "      <th></th>\n",
              "      <th></th>\n",
              "      <th></th>\n",
              "      <th></th>\n",
              "      <th></th>\n",
              "      <th></th>\n",
              "    </tr>\n",
              "  </thead>\n",
              "  <tbody>\n",
              "    <tr>\n",
              "      <th>2021-12-27</th>\n",
              "      <td>177.089996</td>\n",
              "      <td>180.419998</td>\n",
              "      <td>177.070007</td>\n",
              "      <td>180.330002</td>\n",
              "      <td>177.618866</td>\n",
              "      <td>74919600.0</td>\n",
              "      <td>52</td>\n",
              "    </tr>\n",
              "    <tr>\n",
              "      <th>2021-12-28</th>\n",
              "      <td>180.160004</td>\n",
              "      <td>181.330002</td>\n",
              "      <td>178.529999</td>\n",
              "      <td>179.289993</td>\n",
              "      <td>176.594498</td>\n",
              "      <td>79144300.0</td>\n",
              "      <td>52</td>\n",
              "    </tr>\n",
              "    <tr>\n",
              "      <th>2021-12-29</th>\n",
              "      <td>179.330002</td>\n",
              "      <td>180.630005</td>\n",
              "      <td>178.139999</td>\n",
              "      <td>179.380005</td>\n",
              "      <td>176.683167</td>\n",
              "      <td>62348900.0</td>\n",
              "      <td>52</td>\n",
              "    </tr>\n",
              "    <tr>\n",
              "      <th>2021-12-30</th>\n",
              "      <td>179.470001</td>\n",
              "      <td>180.570007</td>\n",
              "      <td>178.089996</td>\n",
              "      <td>178.199997</td>\n",
              "      <td>175.520920</td>\n",
              "      <td>59773000.0</td>\n",
              "      <td>52</td>\n",
              "    </tr>\n",
              "    <tr>\n",
              "      <th>2021-12-31</th>\n",
              "      <td>178.089996</td>\n",
              "      <td>179.229996</td>\n",
              "      <td>177.259995</td>\n",
              "      <td>177.570007</td>\n",
              "      <td>174.900360</td>\n",
              "      <td>64062300.0</td>\n",
              "      <td>52</td>\n",
              "    </tr>\n",
              "  </tbody>\n",
              "</table>\n",
              "</div>\n",
              "    <div class=\"colab-df-buttons\">\n",
              "\n",
              "  <div class=\"colab-df-container\">\n",
              "    <button class=\"colab-df-convert\" onclick=\"convertToInteractive('df-35c8c9eb-6c8f-4e44-a2b6-82d6ee57808e')\"\n",
              "            title=\"Convert this dataframe to an interactive table.\"\n",
              "            style=\"display:none;\">\n",
              "\n",
              "  <svg xmlns=\"http://www.w3.org/2000/svg\" height=\"24px\" viewBox=\"0 -960 960 960\">\n",
              "    <path d=\"M120-120v-720h720v720H120Zm60-500h600v-160H180v160Zm220 220h160v-160H400v160Zm0 220h160v-160H400v160ZM180-400h160v-160H180v160Zm440 0h160v-160H620v160ZM180-180h160v-160H180v160Zm440 0h160v-160H620v160Z\"/>\n",
              "  </svg>\n",
              "    </button>\n",
              "\n",
              "  <style>\n",
              "    .colab-df-container {\n",
              "      display:flex;\n",
              "      gap: 12px;\n",
              "    }\n",
              "\n",
              "    .colab-df-convert {\n",
              "      background-color: #E8F0FE;\n",
              "      border: none;\n",
              "      border-radius: 50%;\n",
              "      cursor: pointer;\n",
              "      display: none;\n",
              "      fill: #1967D2;\n",
              "      height: 32px;\n",
              "      padding: 0 0 0 0;\n",
              "      width: 32px;\n",
              "    }\n",
              "\n",
              "    .colab-df-convert:hover {\n",
              "      background-color: #E2EBFA;\n",
              "      box-shadow: 0px 1px 2px rgba(60, 64, 67, 0.3), 0px 1px 3px 1px rgba(60, 64, 67, 0.15);\n",
              "      fill: #174EA6;\n",
              "    }\n",
              "\n",
              "    .colab-df-buttons div {\n",
              "      margin-bottom: 4px;\n",
              "    }\n",
              "\n",
              "    [theme=dark] .colab-df-convert {\n",
              "      background-color: #3B4455;\n",
              "      fill: #D2E3FC;\n",
              "    }\n",
              "\n",
              "    [theme=dark] .colab-df-convert:hover {\n",
              "      background-color: #434B5C;\n",
              "      box-shadow: 0px 1px 3px 1px rgba(0, 0, 0, 0.15);\n",
              "      filter: drop-shadow(0px 1px 2px rgba(0, 0, 0, 0.3));\n",
              "      fill: #FFFFFF;\n",
              "    }\n",
              "  </style>\n",
              "\n",
              "    <script>\n",
              "      const buttonEl =\n",
              "        document.querySelector('#df-35c8c9eb-6c8f-4e44-a2b6-82d6ee57808e button.colab-df-convert');\n",
              "      buttonEl.style.display =\n",
              "        google.colab.kernel.accessAllowed ? 'block' : 'none';\n",
              "\n",
              "      async function convertToInteractive(key) {\n",
              "        const element = document.querySelector('#df-35c8c9eb-6c8f-4e44-a2b6-82d6ee57808e');\n",
              "        const dataTable =\n",
              "          await google.colab.kernel.invokeFunction('convertToInteractive',\n",
              "                                                    [key], {});\n",
              "        if (!dataTable) return;\n",
              "\n",
              "        const docLinkHtml = 'Like what you see? Visit the ' +\n",
              "          '<a target=\"_blank\" href=https://colab.research.google.com/notebooks/data_table.ipynb>data table notebook</a>'\n",
              "          + ' to learn more about interactive tables.';\n",
              "        element.innerHTML = '';\n",
              "        dataTable['output_type'] = 'display_data';\n",
              "        await google.colab.output.renderOutput(dataTable, element);\n",
              "        const docLink = document.createElement('div');\n",
              "        docLink.innerHTML = docLinkHtml;\n",
              "        element.appendChild(docLink);\n",
              "      }\n",
              "    </script>\n",
              "  </div>\n",
              "\n",
              "\n",
              "<div id=\"df-d101002d-4970-475e-bd95-44217f111fbd\">\n",
              "  <button class=\"colab-df-quickchart\" onclick=\"quickchart('df-d101002d-4970-475e-bd95-44217f111fbd')\"\n",
              "            title=\"Suggest charts\"\n",
              "            style=\"display:none;\">\n",
              "\n",
              "<svg xmlns=\"http://www.w3.org/2000/svg\" height=\"24px\"viewBox=\"0 0 24 24\"\n",
              "     width=\"24px\">\n",
              "    <g>\n",
              "        <path d=\"M19 3H5c-1.1 0-2 .9-2 2v14c0 1.1.9 2 2 2h14c1.1 0 2-.9 2-2V5c0-1.1-.9-2-2-2zM9 17H7v-7h2v7zm4 0h-2V7h2v10zm4 0h-2v-4h2v4z\"/>\n",
              "    </g>\n",
              "</svg>\n",
              "  </button>\n",
              "\n",
              "<style>\n",
              "  .colab-df-quickchart {\n",
              "      --bg-color: #E8F0FE;\n",
              "      --fill-color: #1967D2;\n",
              "      --hover-bg-color: #E2EBFA;\n",
              "      --hover-fill-color: #174EA6;\n",
              "      --disabled-fill-color: #AAA;\n",
              "      --disabled-bg-color: #DDD;\n",
              "  }\n",
              "\n",
              "  [theme=dark] .colab-df-quickchart {\n",
              "      --bg-color: #3B4455;\n",
              "      --fill-color: #D2E3FC;\n",
              "      --hover-bg-color: #434B5C;\n",
              "      --hover-fill-color: #FFFFFF;\n",
              "      --disabled-bg-color: #3B4455;\n",
              "      --disabled-fill-color: #666;\n",
              "  }\n",
              "\n",
              "  .colab-df-quickchart {\n",
              "    background-color: var(--bg-color);\n",
              "    border: none;\n",
              "    border-radius: 50%;\n",
              "    cursor: pointer;\n",
              "    display: none;\n",
              "    fill: var(--fill-color);\n",
              "    height: 32px;\n",
              "    padding: 0;\n",
              "    width: 32px;\n",
              "  }\n",
              "\n",
              "  .colab-df-quickchart:hover {\n",
              "    background-color: var(--hover-bg-color);\n",
              "    box-shadow: 0 1px 2px rgba(60, 64, 67, 0.3), 0 1px 3px 1px rgba(60, 64, 67, 0.15);\n",
              "    fill: var(--button-hover-fill-color);\n",
              "  }\n",
              "\n",
              "  .colab-df-quickchart-complete:disabled,\n",
              "  .colab-df-quickchart-complete:disabled:hover {\n",
              "    background-color: var(--disabled-bg-color);\n",
              "    fill: var(--disabled-fill-color);\n",
              "    box-shadow: none;\n",
              "  }\n",
              "\n",
              "  .colab-df-spinner {\n",
              "    border: 2px solid var(--fill-color);\n",
              "    border-color: transparent;\n",
              "    border-bottom-color: var(--fill-color);\n",
              "    animation:\n",
              "      spin 1s steps(1) infinite;\n",
              "  }\n",
              "\n",
              "  @keyframes spin {\n",
              "    0% {\n",
              "      border-color: transparent;\n",
              "      border-bottom-color: var(--fill-color);\n",
              "      border-left-color: var(--fill-color);\n",
              "    }\n",
              "    20% {\n",
              "      border-color: transparent;\n",
              "      border-left-color: var(--fill-color);\n",
              "      border-top-color: var(--fill-color);\n",
              "    }\n",
              "    30% {\n",
              "      border-color: transparent;\n",
              "      border-left-color: var(--fill-color);\n",
              "      border-top-color: var(--fill-color);\n",
              "      border-right-color: var(--fill-color);\n",
              "    }\n",
              "    40% {\n",
              "      border-color: transparent;\n",
              "      border-right-color: var(--fill-color);\n",
              "      border-top-color: var(--fill-color);\n",
              "    }\n",
              "    60% {\n",
              "      border-color: transparent;\n",
              "      border-right-color: var(--fill-color);\n",
              "    }\n",
              "    80% {\n",
              "      border-color: transparent;\n",
              "      border-right-color: var(--fill-color);\n",
              "      border-bottom-color: var(--fill-color);\n",
              "    }\n",
              "    90% {\n",
              "      border-color: transparent;\n",
              "      border-bottom-color: var(--fill-color);\n",
              "    }\n",
              "  }\n",
              "</style>\n",
              "\n",
              "  <script>\n",
              "    async function quickchart(key) {\n",
              "      const quickchartButtonEl =\n",
              "        document.querySelector('#' + key + ' button');\n",
              "      quickchartButtonEl.disabled = true;  // To prevent multiple clicks.\n",
              "      quickchartButtonEl.classList.add('colab-df-spinner');\n",
              "      try {\n",
              "        const charts = await google.colab.kernel.invokeFunction(\n",
              "            'suggestCharts', [key], {});\n",
              "      } catch (error) {\n",
              "        console.error('Error during call to suggestCharts:', error);\n",
              "      }\n",
              "      quickchartButtonEl.classList.remove('colab-df-spinner');\n",
              "      quickchartButtonEl.classList.add('colab-df-quickchart-complete');\n",
              "    }\n",
              "    (() => {\n",
              "      let quickchartButtonEl =\n",
              "        document.querySelector('#df-d101002d-4970-475e-bd95-44217f111fbd button');\n",
              "      quickchartButtonEl.style.display =\n",
              "        google.colab.kernel.accessAllowed ? 'block' : 'none';\n",
              "    })();\n",
              "  </script>\n",
              "</div>\n",
              "\n",
              "    </div>\n",
              "  </div>\n"
            ],
            "application/vnd.google.colaboratory.intrinsic+json": {
              "type": "dataframe",
              "summary": "{\n  \"name\": \"filled_df\",\n  \"rows\": 5,\n  \"fields\": [\n    {\n      \"column\": \"Date\",\n      \"properties\": {\n        \"dtype\": \"date\",\n        \"min\": \"2021-12-27 00:00:00\",\n        \"max\": \"2021-12-31 00:00:00\",\n        \"num_unique_values\": 5,\n        \"samples\": [\n          \"2021-12-28 00:00:00\",\n          \"2021-12-31 00:00:00\",\n          \"2021-12-29 00:00:00\"\n        ],\n        \"semantic_type\": \"\",\n        \"description\": \"\"\n      }\n    },\n    {\n      \"column\": \"Open\",\n      \"properties\": {\n        \"dtype\": \"number\",\n        \"std\": 1.2251235954416722,\n        \"min\": 177.08999633789062,\n        \"max\": 180.16000366210938,\n        \"num_unique_values\": 5,\n        \"samples\": [\n          180.16000366210938,\n          178.08999633789062,\n          179.3300018310547\n        ],\n        \"semantic_type\": \"\",\n        \"description\": \"\"\n      }\n    },\n    {\n      \"column\": \"High\",\n      \"properties\": {\n        \"dtype\": \"number\",\n        \"std\": 0.7598581274170596,\n        \"min\": 179.22999572753906,\n        \"max\": 181.3300018310547,\n        \"num_unique_values\": 5,\n        \"samples\": [\n          181.3300018310547,\n          179.22999572753906,\n          180.6300048828125\n        ],\n        \"semantic_type\": \"\",\n        \"description\": \"\"\n      }\n    },\n    {\n      \"column\": \"Low\",\n      \"properties\": {\n        \"dtype\": \"number\",\n        \"std\": 0.6235926254176475,\n        \"min\": 177.07000732421875,\n        \"max\": 178.52999877929688,\n        \"num_unique_values\": 5,\n        \"samples\": [\n          178.52999877929688,\n          177.25999450683594,\n          178.13999938964844\n        ],\n        \"semantic_type\": \"\",\n        \"description\": \"\"\n      }\n    },\n    {\n      \"column\": \"Close\",\n      \"properties\": {\n        \"dtype\": \"number\",\n        \"std\": 1.0807068307645764,\n        \"min\": 177.57000732421875,\n        \"max\": 180.3300018310547,\n        \"num_unique_values\": 5,\n        \"samples\": [\n          179.2899932861328,\n          177.57000732421875,\n          179.3800048828125\n        ],\n        \"semantic_type\": \"\",\n        \"description\": \"\"\n      }\n    },\n    {\n      \"column\": \"Adj Close\",\n      \"properties\": {\n        \"dtype\": \"number\",\n        \"std\": 1.0644566741171124,\n        \"min\": 174.90036010742188,\n        \"max\": 177.61886596679688,\n        \"num_unique_values\": 5,\n        \"samples\": [\n          176.59449768066406,\n          174.90036010742188,\n          176.68316650390625\n        ],\n        \"semantic_type\": \"\",\n        \"description\": \"\"\n      }\n    },\n    {\n      \"column\": \"Volume\",\n      \"properties\": {\n        \"dtype\": \"number\",\n        \"std\": 8473309.823026655,\n        \"min\": 59773000.0,\n        \"max\": 79144300.0,\n        \"num_unique_values\": 5,\n        \"samples\": [\n          79144300.0,\n          64062300.0,\n          62348900.0\n        ],\n        \"semantic_type\": \"\",\n        \"description\": \"\"\n      }\n    },\n    {\n      \"column\": \"week\",\n      \"properties\": {\n        \"dtype\": \"number\",\n        \"std\": 0,\n        \"min\": 52,\n        \"max\": 52,\n        \"num_unique_values\": 1,\n        \"samples\": [\n          52\n        ],\n        \"semantic_type\": \"\",\n        \"description\": \"\"\n      }\n    }\n  ]\n}"
            }
          },
          "metadata": {},
          "execution_count": 67
        }
      ]
    },
    {
      "cell_type": "code",
      "source": [
        "data = filled_df['Close'].values\n",
        "data = data.reshape(len(data), 1)\n",
        "scaler = MinMaxScaler((0,1))\n",
        "data_scaled = scaler.fit_transform(data).flatten()\n",
        "\n"
      ],
      "metadata": {
        "id": "qXVGnN8SkuWY"
      },
      "execution_count": null,
      "outputs": []
    },
    {
      "cell_type": "code",
      "source": [
        "time_step=5\n",
        "indices = np.arange(time_step, len(data_scaled), time_step)\n",
        "y = data_scaled[indices]"
      ],
      "metadata": {
        "id": "Eo4valSifEVL"
      },
      "execution_count": null,
      "outputs": []
    },
    {
      "cell_type": "code",
      "source": [
        "X = data_scaled[range(len(y)*time_step)]\n",
        "X = np.reshape(X, (len(y), time_step, 1))"
      ],
      "metadata": {
        "id": "N6OZCUsxcQUb"
      },
      "execution_count": null,
      "outputs": []
    },
    {
      "cell_type": "code",
      "source": [
        "X.shape,y.shape"
      ],
      "metadata": {
        "colab": {
          "base_uri": "https://localhost:8080/"
        },
        "id": "F4bPiV85vAiA",
        "outputId": "da7726de-3898-489b-ce9a-5176a4d0ec75"
      },
      "execution_count": null,
      "outputs": [
        {
          "output_type": "execute_result",
          "data": {
            "text/plain": [
              "((520, 5, 1), (520,))"
            ]
          },
          "metadata": {},
          "execution_count": 71
        }
      ]
    },
    {
      "cell_type": "code",
      "source": [
        "if mondays['Close'][1:-1].values.all() == y.all():\n",
        "    print(\"The lists are identical\")\n",
        "else:\n",
        "    print(\"The lists are not identical\")\n"
      ],
      "metadata": {
        "colab": {
          "base_uri": "https://localhost:8080/"
        },
        "id": "Qo2e-mdfvH6v",
        "outputId": "8f4fb762-c498-4ddd-ee2d-f66cd49ac245"
      },
      "execution_count": null,
      "outputs": [
        {
          "output_type": "stream",
          "name": "stdout",
          "text": [
            "The lists are identical\n"
          ]
        }
      ]
    },
    {
      "cell_type": "code",
      "source": [
        "#70% train\n",
        "train_size = int(X.shape[0] *0.7)\n",
        "X_train , y_train= X[:train_size + 1], y[:train_size + 1]\n",
        "X_test , y_test =  X[train_size + 1 :], y[train_size + 1 :]"
      ],
      "metadata": {
        "id": "4zqdE7Zdxlvp"
      },
      "execution_count": null,
      "outputs": []
    },
    {
      "cell_type": "code",
      "source": [
        "X_train.shape,y_train.shape,X_test.shape,y_test.shape"
      ],
      "metadata": {
        "colab": {
          "base_uri": "https://localhost:8080/"
        },
        "id": "g6pWZnPC1TLN",
        "outputId": "5dfc6db2-877f-46e3-f3ee-d9c612b6be45"
      },
      "execution_count": null,
      "outputs": [
        {
          "output_type": "execute_result",
          "data": {
            "text/plain": [
              "((365, 5, 1), (365,), (155, 5, 1), (155,))"
            ]
          },
          "metadata": {},
          "execution_count": 74
        }
      ]
    },
    {
      "cell_type": "code",
      "source": [
        "X_train.shape[0] + X_test.shape[0], y_train.shape[0] + y_test.shape[0]"
      ],
      "metadata": {
        "colab": {
          "base_uri": "https://localhost:8080/"
        },
        "id": "RDJP0d1FEJ_x",
        "outputId": "083183ed-fdb2-41d3-ccf6-1d9ab6f2887d"
      },
      "execution_count": null,
      "outputs": [
        {
          "output_type": "execute_result",
          "data": {
            "text/plain": [
              "(520, 520)"
            ]
          },
          "metadata": {},
          "execution_count": 75
        }
      ]
    },
    {
      "cell_type": "code",
      "source": [
        "from tensorflow.keras.models import Sequential\n",
        "from tensorflow.keras.layers import SimpleRNN,GRU, LSTM, Dense, Dropout\n",
        "model = Sequential()\n",
        "# model.add(SimpleRNN(units=50, activation='tanh',return_sequences = True, input_shape=((time_step, 1))))\n",
        "# model.add(Dropout(0.2) )\n",
        "# model.add(SimpleRNN(units=50, activation='tanh',return_sequences = True))\n",
        "# model.add(Dropout(0.2) )\n",
        "model.add(SimpleRNN(units=50, activation='tanh',return_sequences = True))\n",
        "model.add(Dropout(0.2) )\n",
        "model.add(SimpleRNN(units=50, activation='tanh'))\n",
        "model.add(Dropout(0.2) )\n",
        "model.add(Dense(1, activation='sigmoid'))\n",
        "model.compile(loss='MSE', optimizer='adam' , metrics=['mean_absolute_error'])"
      ],
      "metadata": {
        "id": "SFCK7Z9sEozi"
      },
      "execution_count": null,
      "outputs": []
    },
    {
      "cell_type": "code",
      "source": [
        "model.summary()"
      ],
      "metadata": {
        "colab": {
          "base_uri": "https://localhost:8080/",
          "height": 289
        },
        "id": "LoCXnzPuL2ll",
        "outputId": "78b7a133-6c7c-41c5-fc31-4e26c8e6d8da"
      },
      "execution_count": null,
      "outputs": [
        {
          "output_type": "display_data",
          "data": {
            "text/plain": [
              "\u001b[1mModel: \"sequential_12\"\u001b[0m\n"
            ],
            "text/html": [
              "<pre style=\"white-space:pre;overflow-x:auto;line-height:normal;font-family:Menlo,'DejaVu Sans Mono',consolas,'Courier New',monospace\"><span style=\"font-weight: bold\">Model: \"sequential_12\"</span>\n",
              "</pre>\n"
            ]
          },
          "metadata": {}
        },
        {
          "output_type": "display_data",
          "data": {
            "text/plain": [
              "┏━━━━━━━━━━━━━━━━━━━━━━━━━━━━━━━━━━━━━━┳━━━━━━━━━━━━━━━━━━━━━━━━━━━━━┳━━━━━━━━━━━━━━━━━┓\n",
              "┃\u001b[1m \u001b[0m\u001b[1mLayer (type)                        \u001b[0m\u001b[1m \u001b[0m┃\u001b[1m \u001b[0m\u001b[1mOutput Shape               \u001b[0m\u001b[1m \u001b[0m┃\u001b[1m \u001b[0m\u001b[1m        Param #\u001b[0m\u001b[1m \u001b[0m┃\n",
              "┡━━━━━━━━━━━━━━━━━━━━━━━━━━━━━━━━━━━━━━╇━━━━━━━━━━━━━━━━━━━━━━━━━━━━━╇━━━━━━━━━━━━━━━━━┩\n",
              "│ simple_rnn_11 (\u001b[38;5;33mSimpleRNN\u001b[0m)            │ ?                           │     \u001b[38;5;34m0\u001b[0m (unbuilt) │\n",
              "├──────────────────────────────────────┼─────────────────────────────┼─────────────────┤\n",
              "│ dropout_19 (\u001b[38;5;33mDropout\u001b[0m)                 │ ?                           │     \u001b[38;5;34m0\u001b[0m (unbuilt) │\n",
              "├──────────────────────────────────────┼─────────────────────────────┼─────────────────┤\n",
              "│ simple_rnn_12 (\u001b[38;5;33mSimpleRNN\u001b[0m)            │ ?                           │     \u001b[38;5;34m0\u001b[0m (unbuilt) │\n",
              "├──────────────────────────────────────┼─────────────────────────────┼─────────────────┤\n",
              "│ dropout_20 (\u001b[38;5;33mDropout\u001b[0m)                 │ ?                           │     \u001b[38;5;34m0\u001b[0m (unbuilt) │\n",
              "├──────────────────────────────────────┼─────────────────────────────┼─────────────────┤\n",
              "│ dense_12 (\u001b[38;5;33mDense\u001b[0m)                     │ ?                           │     \u001b[38;5;34m0\u001b[0m (unbuilt) │\n",
              "└──────────────────────────────────────┴─────────────────────────────┴─────────────────┘\n"
            ],
            "text/html": [
              "<pre style=\"white-space:pre;overflow-x:auto;line-height:normal;font-family:Menlo,'DejaVu Sans Mono',consolas,'Courier New',monospace\">┏━━━━━━━━━━━━━━━━━━━━━━━━━━━━━━━━━━━━━━┳━━━━━━━━━━━━━━━━━━━━━━━━━━━━━┳━━━━━━━━━━━━━━━━━┓\n",
              "┃<span style=\"font-weight: bold\"> Layer (type)                         </span>┃<span style=\"font-weight: bold\"> Output Shape                </span>┃<span style=\"font-weight: bold\">         Param # </span>┃\n",
              "┡━━━━━━━━━━━━━━━━━━━━━━━━━━━━━━━━━━━━━━╇━━━━━━━━━━━━━━━━━━━━━━━━━━━━━╇━━━━━━━━━━━━━━━━━┩\n",
              "│ simple_rnn_11 (<span style=\"color: #0087ff; text-decoration-color: #0087ff\">SimpleRNN</span>)            │ ?                           │     <span style=\"color: #00af00; text-decoration-color: #00af00\">0</span> (unbuilt) │\n",
              "├──────────────────────────────────────┼─────────────────────────────┼─────────────────┤\n",
              "│ dropout_19 (<span style=\"color: #0087ff; text-decoration-color: #0087ff\">Dropout</span>)                 │ ?                           │     <span style=\"color: #00af00; text-decoration-color: #00af00\">0</span> (unbuilt) │\n",
              "├──────────────────────────────────────┼─────────────────────────────┼─────────────────┤\n",
              "│ simple_rnn_12 (<span style=\"color: #0087ff; text-decoration-color: #0087ff\">SimpleRNN</span>)            │ ?                           │     <span style=\"color: #00af00; text-decoration-color: #00af00\">0</span> (unbuilt) │\n",
              "├──────────────────────────────────────┼─────────────────────────────┼─────────────────┤\n",
              "│ dropout_20 (<span style=\"color: #0087ff; text-decoration-color: #0087ff\">Dropout</span>)                 │ ?                           │     <span style=\"color: #00af00; text-decoration-color: #00af00\">0</span> (unbuilt) │\n",
              "├──────────────────────────────────────┼─────────────────────────────┼─────────────────┤\n",
              "│ dense_12 (<span style=\"color: #0087ff; text-decoration-color: #0087ff\">Dense</span>)                     │ ?                           │     <span style=\"color: #00af00; text-decoration-color: #00af00\">0</span> (unbuilt) │\n",
              "└──────────────────────────────────────┴─────────────────────────────┴─────────────────┘\n",
              "</pre>\n"
            ]
          },
          "metadata": {}
        },
        {
          "output_type": "display_data",
          "data": {
            "text/plain": [
              "\u001b[1m Total params: \u001b[0m\u001b[38;5;34m0\u001b[0m (0.00 B)\n"
            ],
            "text/html": [
              "<pre style=\"white-space:pre;overflow-x:auto;line-height:normal;font-family:Menlo,'DejaVu Sans Mono',consolas,'Courier New',monospace\"><span style=\"font-weight: bold\"> Total params: </span><span style=\"color: #00af00; text-decoration-color: #00af00\">0</span> (0.00 B)\n",
              "</pre>\n"
            ]
          },
          "metadata": {}
        },
        {
          "output_type": "display_data",
          "data": {
            "text/plain": [
              "\u001b[1m Trainable params: \u001b[0m\u001b[38;5;34m0\u001b[0m (0.00 B)\n"
            ],
            "text/html": [
              "<pre style=\"white-space:pre;overflow-x:auto;line-height:normal;font-family:Menlo,'DejaVu Sans Mono',consolas,'Courier New',monospace\"><span style=\"font-weight: bold\"> Trainable params: </span><span style=\"color: #00af00; text-decoration-color: #00af00\">0</span> (0.00 B)\n",
              "</pre>\n"
            ]
          },
          "metadata": {}
        },
        {
          "output_type": "display_data",
          "data": {
            "text/plain": [
              "\u001b[1m Non-trainable params: \u001b[0m\u001b[38;5;34m0\u001b[0m (0.00 B)\n"
            ],
            "text/html": [
              "<pre style=\"white-space:pre;overflow-x:auto;line-height:normal;font-family:Menlo,'DejaVu Sans Mono',consolas,'Courier New',monospace\"><span style=\"font-weight: bold\"> Non-trainable params: </span><span style=\"color: #00af00; text-decoration-color: #00af00\">0</span> (0.00 B)\n",
              "</pre>\n"
            ]
          },
          "metadata": {}
        }
      ]
    },
    {
      "cell_type": "code",
      "source": [
        "model.fit(X_train, y_train, epochs=5, batch_size=1)"
      ],
      "metadata": {
        "colab": {
          "base_uri": "https://localhost:8080/"
        },
        "id": "dHlKN0NsE3i9",
        "outputId": "4376f5d7-6777-4190-9e00-5241a72ae3d3"
      },
      "execution_count": null,
      "outputs": [
        {
          "output_type": "stream",
          "name": "stdout",
          "text": [
            "Epoch 1/5\n",
            "\u001b[1m365/365\u001b[0m \u001b[32m━━━━━━━━━━━━━━━━━━━━\u001b[0m\u001b[37m\u001b[0m \u001b[1m6s\u001b[0m 4ms/step - loss: 0.0212 - mean_absolute_error: 0.1013\n",
            "Epoch 2/5\n",
            "\u001b[1m365/365\u001b[0m \u001b[32m━━━━━━━━━━━━━━━━━━━━\u001b[0m\u001b[37m\u001b[0m \u001b[1m3s\u001b[0m 4ms/step - loss: 0.0041 - mean_absolute_error: 0.0477\n",
            "Epoch 3/5\n",
            "\u001b[1m365/365\u001b[0m \u001b[32m━━━━━━━━━━━━━━━━━━━━\u001b[0m\u001b[37m\u001b[0m \u001b[1m3s\u001b[0m 4ms/step - loss: 0.0014 - mean_absolute_error: 0.0280\n",
            "Epoch 4/5\n",
            "\u001b[1m365/365\u001b[0m \u001b[32m━━━━━━━━━━━━━━━━━━━━\u001b[0m\u001b[37m\u001b[0m \u001b[1m1s\u001b[0m 4ms/step - loss: 0.0031 - mean_absolute_error: 0.0393\n",
            "Epoch 5/5\n",
            "\u001b[1m365/365\u001b[0m \u001b[32m━━━━━━━━━━━━━━━━━━━━\u001b[0m\u001b[37m\u001b[0m \u001b[1m3s\u001b[0m 5ms/step - loss: 0.0011 - mean_absolute_error: 0.0259\n"
          ]
        },
        {
          "output_type": "execute_result",
          "data": {
            "text/plain": [
              "<keras.src.callbacks.history.History at 0x7c13a0d63fd0>"
            ]
          },
          "metadata": {},
          "execution_count": 105
        }
      ]
    },
    {
      "cell_type": "code",
      "source": [
        "y_pred = model.predict(X)\n",
        "train_ypred = y_pred[:train_size]\n",
        "test_ypred = y_pred[train_size:]\n",
        "import matplotlib.pyplot as plt\n",
        "plt.plot(range(len(y)), y)\n",
        "plt.plot(range(train_size), train_ypred)\n",
        "plt.plot(range(train_size,len(y)), test_ypred)"
      ],
      "metadata": {
        "colab": {
          "base_uri": "https://localhost:8080/",
          "height": 465
        },
        "id": "J28KRiC5FB0v",
        "outputId": "d9366d45-c49e-4d1d-bf4a-375542764ad5"
      },
      "execution_count": null,
      "outputs": [
        {
          "output_type": "stream",
          "name": "stdout",
          "text": [
            "\u001b[1m17/17\u001b[0m \u001b[32m━━━━━━━━━━━━━━━━━━━━\u001b[0m\u001b[37m\u001b[0m \u001b[1m1s\u001b[0m 28ms/step\n"
          ]
        },
        {
          "output_type": "execute_result",
          "data": {
            "text/plain": [
              "[<matplotlib.lines.Line2D at 0x7c139ee65cf0>]"
            ]
          },
          "metadata": {},
          "execution_count": 106
        },
        {
          "output_type": "display_data",
          "data": {
            "text/plain": [
              "<Figure size 640x480 with 1 Axes>"
            ],
            "image/png": "[encoded data removed]"
          },
          "metadata": {}
        }
      ]
    },
    {
      "cell_type": "code",
      "source": [
        "from tensorflow.keras.models import Sequential\n",
        "from tensorflow.keras.layers import GRU, LSTM, Dense\n",
        "model = Sequential()\n",
        "model.add(GRU(units=10, activation='tanh', return_sequences=True, input_shape=((time_step, 1))))\n",
        "model.add(GRU(units=10, activation='tanh'))\n",
        "model.add(Dense(1, activation='sigmoid'))\n",
        "model.compile(loss='MSE', optimizer='adam', metrics=['mean_absolute_error'])\n",
        "history_gru = model.fit(X_train, y_train, epochs=5, batch_size=1)\n",
        "y_pred = model.predict(X_train)"
      ],
      "metadata": {
        "colab": {
          "base_uri": "https://localhost:8080/"
        },
        "id": "1KPMFMd0Fak8",
        "outputId": "952fe8e1-6af3-42c3-d638-b4fc4e87b5d2"
      },
      "execution_count": null,
      "outputs": [
        {
          "output_type": "stream",
          "name": "stdout",
          "text": [
            "Epoch 1/5\n",
            "\u001b[1m365/365\u001b[0m \u001b[32m━━━━━━━━━━━━━━━━━━━━\u001b[0m\u001b[37m\u001b[0m \u001b[1m5s\u001b[0m 5ms/step - loss: 0.0484 - mean_absolute_error: 0.1645\n",
            "Epoch 2/5\n",
            "\u001b[1m365/365\u001b[0m \u001b[32m━━━━━━━━━━━━━━━━━━━━\u001b[0m\u001b[37m\u001b[0m \u001b[1m3s\u001b[0m 7ms/step - loss: 0.0033 - mean_absolute_error: 0.0466\n",
            "Epoch 3/5\n",
            "\u001b[1m365/365\u001b[0m \u001b[32m━━━━━━━━━━━━━━━━━━━━\u001b[0m\u001b[37m\u001b[0m \u001b[1m3s\u001b[0m 7ms/step - loss: 3.1421e-04 - mean_absolute_error: 0.0143\n",
            "Epoch 4/5\n",
            "\u001b[1m365/365\u001b[0m \u001b[32m━━━━━━━━━━━━━━━━━━━━\u001b[0m\u001b[37m\u001b[0m \u001b[1m2s\u001b[0m 5ms/step - loss: 2.2068e-04 - mean_absolute_error: 0.0120\n",
            "Epoch 5/5\n",
            "\u001b[1m365/365\u001b[0m \u001b[32m━━━━━━━━━━━━━━━━━━━━\u001b[0m\u001b[37m\u001b[0m \u001b[1m2s\u001b[0m 5ms/step - loss: 1.9705e-04 - mean_absolute_error: 0.0114\n",
            "\u001b[1m12/12\u001b[0m \u001b[32m━━━━━━━━━━━━━━━━━━━━\u001b[0m\u001b[37m\u001b[0m \u001b[1m1s\u001b[0m 36ms/step\n"
          ]
        }
      ]
    },
    {
      "cell_type": "code",
      "source": [
        "y_pred = model.predict(X)\n",
        "train_ypred = y_pred[:train_size]\n",
        "test_ypred = y_pred[train_size:]\n",
        "import matplotlib.pyplot as plt\n",
        "plt.plot(range(len(y)), y)\n",
        "plt.plot(range(train_size), train_ypred)\n",
        "plt.plot(range(train_size,len(y)), test_ypred)"
      ],
      "metadata": {
        "colab": {
          "base_uri": "https://localhost:8080/",
          "height": 465
        },
        "id": "4LcEayzsFkTZ",
        "outputId": "94201383-dc9b-4f28-b5c8-17989f6f4fdd"
      },
      "execution_count": null,
      "outputs": [
        {
          "output_type": "stream",
          "name": "stdout",
          "text": [
            "\u001b[1m17/17\u001b[0m \u001b[32m━━━━━━━━━━━━━━━━━━━━\u001b[0m\u001b[37m\u001b[0m \u001b[1m0s\u001b[0m 3ms/step \n"
          ]
        },
        {
          "output_type": "execute_result",
          "data": {
            "text/plain": [
              "[<matplotlib.lines.Line2D at 0x7c13bb0e4610>]"
            ]
          },
          "metadata": {},
          "execution_count": 81
        },
        {
          "output_type": "display_data",
          "data": {
            "text/plain": [
              "<Figure size 640x480 with 1 Axes>"
            ],
            "image/png": "[encoded data removed]"
          },
          "metadata": {}
        }
      ]
    },
    {
      "cell_type": "markdown",
      "source": [
        "it is the best model here for following the test data"
      ],
      "metadata": {
        "id": "oJltjTAkZp-U"
      }
    },
    {
      "cell_type": "code",
      "source": [
        "y_pred = model.predict(X_test)\n",
        "import matplotlib.pyplot as plt\n",
        "plt.plot(range(len(y_test)), y_test)\n",
        "plt.plot(range(len(y_pred)), y_pred)"
      ],
      "metadata": {
        "colab": {
          "base_uri": "https://localhost:8080/",
          "height": 465
        },
        "id": "ehyyBa739Cxf",
        "outputId": "7cf65230-1c9e-4a3b-8b46-23c64f75a574"
      },
      "execution_count": null,
      "outputs": [
        {
          "output_type": "stream",
          "name": "stdout",
          "text": [
            "\u001b[1m5/5\u001b[0m \u001b[32m━━━━━━━━━━━━━━━━━━━━\u001b[0m\u001b[37m\u001b[0m \u001b[1m0s\u001b[0m 3ms/step \n"
          ]
        },
        {
          "output_type": "execute_result",
          "data": {
            "text/plain": [
              "[<matplotlib.lines.Line2D at 0x7c13bb155270>]"
            ]
          },
          "metadata": {},
          "execution_count": 82
        },
        {
          "output_type": "display_data",
          "data": {
            "text/plain": [
              "<Figure size 640x480 with 1 Axes>"
            ],
            "image/png": "[encoded data removed]"
          },
          "metadata": {}
        }
      ]
    },
    {
      "cell_type": "code",
      "source": [
        "model = Sequential()\n",
        "model.add(LSTM(units=24, activation='tanh', return_sequences=True, input_shape=((time_step, 1))))\n",
        "model.add(LSTM(units=24, activation='tanh', return_sequences=True))\n",
        "model.add(LSTM(units=10, activation='tanh'))\n",
        "model.add(Dense(1, activation='sigmoid'))\n",
        "model.compile(loss='MSE', optimizer='adam', metrics=['mean_absolute_error'])\n",
        "history_lstm =  model.fit(X_train, y_train, epochs=5, batch_size=1)\n"
      ],
      "metadata": {
        "colab": {
          "base_uri": "https://localhost:8080/"
        },
        "id": "DDECOiFvFsqO",
        "outputId": "10e1d863-3905-4c7b-99d1-30e6ff43fb29"
      },
      "execution_count": null,
      "outputs": [
        {
          "output_type": "stream",
          "name": "stdout",
          "text": [
            "Epoch 1/5\n",
            "\u001b[1m365/365\u001b[0m \u001b[32m━━━━━━━━━━━━━━━━━━━━\u001b[0m\u001b[37m\u001b[0m \u001b[1m8s\u001b[0m 8ms/step - loss: 0.0569 - mean_absolute_error: 0.1761\n",
            "Epoch 2/5\n",
            "\u001b[1m365/365\u001b[0m \u001b[32m━━━━━━━━━━━━━━━━━━━━\u001b[0m\u001b[37m\u001b[0m \u001b[1m4s\u001b[0m 6ms/step - loss: 0.0040 - mean_absolute_error: 0.0511\n",
            "Epoch 3/5\n",
            "\u001b[1m365/365\u001b[0m \u001b[32m━━━━━━━━━━━━━━━━━━━━\u001b[0m\u001b[37m\u001b[0m \u001b[1m2s\u001b[0m 6ms/step - loss: 0.0035 - mean_absolute_error: 0.0483\n",
            "Epoch 4/5\n",
            "\u001b[1m365/365\u001b[0m \u001b[32m━━━━━━━━━━━━━━━━━━━━\u001b[0m\u001b[37m\u001b[0m \u001b[1m2s\u001b[0m 6ms/step - loss: 5.7949e-04 - mean_absolute_error: 0.0196\n",
            "Epoch 5/5\n",
            "\u001b[1m365/365\u001b[0m \u001b[32m━━━━━━━━━━━━━━━━━━━━\u001b[0m\u001b[37m\u001b[0m \u001b[1m3s\u001b[0m 8ms/step - loss: 2.7383e-04 - mean_absolute_error: 0.0133\n"
          ]
        }
      ]
    },
    {
      "cell_type": "code",
      "source": [
        "y_pred = model.predict(X)\n",
        "train_ypred = y_pred[:train_size]\n",
        "test_ypred = y_pred[train_size:]\n",
        "import matplotlib.pyplot as plt\n",
        "plt.plot(range(len(y)), y)\n",
        "plt.plot(range(train_size), train_ypred)\n",
        "plt.plot(range(train_size,len(y)), test_ypred)"
      ],
      "metadata": {
        "colab": {
          "base_uri": "https://localhost:8080/",
          "height": 465
        },
        "id": "5k96_ccnHx4x",
        "outputId": "261bda9c-6bd6-4ecf-8361-f860a46c0c8c"
      },
      "execution_count": null,
      "outputs": [
        {
          "output_type": "stream",
          "name": "stdout",
          "text": [
            "\u001b[1m17/17\u001b[0m \u001b[32m━━━━━━━━━━━━━━━━━━━━\u001b[0m\u001b[37m\u001b[0m \u001b[1m1s\u001b[0m 32ms/step\n"
          ]
        },
        {
          "output_type": "execute_result",
          "data": {
            "text/plain": [
              "[<matplotlib.lines.Line2D at 0x7c13a614dfc0>]"
            ]
          },
          "metadata": {},
          "execution_count": 84
        },
        {
          "output_type": "display_data",
          "data": {
            "text/plain": [
              "<Figure size 640x480 with 1 Axes>"
            ],
            "image/png": "[encoded data removed]"
          },
          "metadata": {}
        }
      ]
    },
    {
      "cell_type": "code",
      "source": [
        "\n",
        "\n",
        "model = Sequential()\n",
        "model.add(LSTM(units=50, activation='tanh', return_sequences=True, input_shape=((time_step, 1))))\n",
        "model.add(Dropout(0.2))\n",
        "model.add(LSTM(units=50, activation='tanh', return_sequences=True))\n",
        "model.add(Dropout(0.2))\n",
        "model.add(LSTM(units=50, activation='tanh', return_sequences=True))\n",
        "model.add(Dropout(0.2))\n",
        "model.add(LSTM(units=50, activation='tanh'))\n",
        "model.add(Dropout(0.2))\n",
        "model.add(Dense(1, activation='sigmoid'))\n",
        "model.compile(loss='MSE', optimizer='adam', metrics=['mean_absolute_error'])\n",
        "model.fit(X_train, y_train, epochs=60, batch_size=32)\n"
      ],
      "metadata": {
        "colab": {
          "base_uri": "https://localhost:8080/"
        },
        "id": "3V4SUl9ZIcLc",
        "outputId": "1455734f-54f2-4081-f66a-a26abeaa0f9b"
      },
      "execution_count": null,
      "outputs": [
        {
          "output_type": "stream",
          "name": "stdout",
          "text": [
            "Epoch 1/60\n",
            "\u001b[1m12/12\u001b[0m \u001b[32m━━━━━━━━━━━━━━━━━━━━\u001b[0m\u001b[37m\u001b[0m \u001b[1m8s\u001b[0m 22ms/step - loss: 0.1667 - mean_absolute_error: 0.4037\n",
            "Epoch 2/60\n",
            "\u001b[1m12/12\u001b[0m \u001b[32m━━━━━━━━━━━━━━━━━━━━\u001b[0m\u001b[37m\u001b[0m \u001b[1m0s\u001b[0m 22ms/step - loss: 0.1010 - mean_absolute_error: 0.3061\n",
            "Epoch 3/60\n",
            "\u001b[1m12/12\u001b[0m \u001b[32m━━━━━━━━━━━━━━━━━━━━\u001b[0m\u001b[37m\u001b[0m \u001b[1m1s\u001b[0m 24ms/step - loss: 0.0075 - mean_absolute_error: 0.0707\n",
            "Epoch 4/60\n",
            "\u001b[1m12/12\u001b[0m \u001b[32m━━━━━━━━━━━━━━━━━━━━\u001b[0m\u001b[37m\u001b[0m \u001b[1m0s\u001b[0m 23ms/step - loss: 0.0097 - mean_absolute_error: 0.0772\n",
            "Epoch 5/60\n",
            "\u001b[1m12/12\u001b[0m \u001b[32m━━━━━━━━━━━━━━━━━━━━\u001b[0m\u001b[37m\u001b[0m \u001b[1m0s\u001b[0m 24ms/step - loss: 0.0092 - mean_absolute_error: 0.0750\n",
            "Epoch 6/60\n",
            "\u001b[1m12/12\u001b[0m \u001b[32m━━━━━━━━━━━━━━━━━━━━\u001b[0m\u001b[37m\u001b[0m \u001b[1m0s\u001b[0m 21ms/step - loss: 0.0072 - mean_absolute_error: 0.0633\n",
            "Epoch 7/60\n",
            "\u001b[1m12/12\u001b[0m \u001b[32m━━━━━━━━━━━━━━━━━━━━\u001b[0m\u001b[37m\u001b[0m \u001b[1m0s\u001b[0m 25ms/step - loss: 0.0042 - mean_absolute_error: 0.0519\n",
            "Epoch 8/60\n",
            "\u001b[1m12/12\u001b[0m \u001b[32m━━━━━━━━━━━━━━━━━━━━\u001b[0m\u001b[37m\u001b[0m \u001b[1m1s\u001b[0m 24ms/step - loss: 0.0046 - mean_absolute_error: 0.0563\n",
            "Epoch 9/60\n",
            "\u001b[1m12/12\u001b[0m \u001b[32m━━━━━━━━━━━━━━━━━━━━\u001b[0m\u001b[37m\u001b[0m \u001b[1m0s\u001b[0m 24ms/step - loss: 0.0044 - mean_absolute_error: 0.0535\n",
            "Epoch 10/60\n",
            "\u001b[1m12/12\u001b[0m \u001b[32m━━━━━━━━━━━━━━━━━━━━\u001b[0m\u001b[37m\u001b[0m \u001b[1m1s\u001b[0m 19ms/step - loss: 0.0045 - mean_absolute_error: 0.0544\n",
            "Epoch 11/60\n",
            "\u001b[1m12/12\u001b[0m \u001b[32m━━━━━━━━━━━━━━━━━━━━\u001b[0m\u001b[37m\u001b[0m \u001b[1m0s\u001b[0m 17ms/step - loss: 0.0043 - mean_absolute_error: 0.0537\n",
            "Epoch 12/60\n",
            "\u001b[1m12/12\u001b[0m \u001b[32m━━━━━━━━━━━━━━━━━━━━\u001b[0m\u001b[37m\u001b[0m \u001b[1m0s\u001b[0m 17ms/step - loss: 0.0045 - mean_absolute_error: 0.0534\n",
            "Epoch 13/60\n",
            "\u001b[1m12/12\u001b[0m \u001b[32m━━━━━━━━━━━━━━━━━━━━\u001b[0m\u001b[37m\u001b[0m \u001b[1m0s\u001b[0m 15ms/step - loss: 0.0039 - mean_absolute_error: 0.0494\n",
            "Epoch 14/60\n",
            "\u001b[1m12/12\u001b[0m \u001b[32m━━━━━━━━━━━━━━━━━━━━\u001b[0m\u001b[37m\u001b[0m \u001b[1m0s\u001b[0m 16ms/step - loss: 0.0044 - mean_absolute_error: 0.0533\n",
            "Epoch 15/60\n",
            "\u001b[1m12/12\u001b[0m \u001b[32m━━━━━━━━━━━━━━━━━━━━\u001b[0m\u001b[37m\u001b[0m \u001b[1m0s\u001b[0m 15ms/step - loss: 0.0040 - mean_absolute_error: 0.0508\n",
            "Epoch 16/60\n",
            "\u001b[1m12/12\u001b[0m \u001b[32m━━━━━━━━━━━━━━━━━━━━\u001b[0m\u001b[37m\u001b[0m \u001b[1m0s\u001b[0m 13ms/step - loss: 0.0040 - mean_absolute_error: 0.0506\n",
            "Epoch 17/60\n",
            "\u001b[1m12/12\u001b[0m \u001b[32m━━━━━━━━━━━━━━━━━━━━\u001b[0m\u001b[37m\u001b[0m \u001b[1m0s\u001b[0m 14ms/step - loss: 0.0042 - mean_absolute_error: 0.0526\n",
            "Epoch 18/60\n",
            "\u001b[1m12/12\u001b[0m \u001b[32m━━━━━━━━━━━━━━━━━━━━\u001b[0m\u001b[37m\u001b[0m \u001b[1m0s\u001b[0m 14ms/step - loss: 0.0039 - mean_absolute_error: 0.0506\n",
            "Epoch 19/60\n",
            "\u001b[1m12/12\u001b[0m \u001b[32m━━━━━━━━━━━━━━━━━━━━\u001b[0m\u001b[37m\u001b[0m \u001b[1m0s\u001b[0m 13ms/step - loss: 0.0040 - mean_absolute_error: 0.0503\n",
            "Epoch 20/60\n",
            "\u001b[1m12/12\u001b[0m \u001b[32m━━━━━━━━━━━━━━━━━━━━\u001b[0m\u001b[37m\u001b[0m \u001b[1m0s\u001b[0m 13ms/step - loss: 0.0038 - mean_absolute_error: 0.0499\n",
            "Epoch 21/60\n",
            "\u001b[1m12/12\u001b[0m \u001b[32m━━━━━━━━━━━━━━━━━━━━\u001b[0m\u001b[37m\u001b[0m \u001b[1m0s\u001b[0m 17ms/step - loss: 0.0034 - mean_absolute_error: 0.0469\n",
            "Epoch 22/60\n",
            "\u001b[1m12/12\u001b[0m \u001b[32m━━━━━━━━━━━━━━━━━━━━\u001b[0m\u001b[37m\u001b[0m \u001b[1m0s\u001b[0m 15ms/step - loss: 0.0040 - mean_absolute_error: 0.0517\n",
            "Epoch 23/60\n",
            "\u001b[1m12/12\u001b[0m \u001b[32m━━━━━━━━━━━━━━━━━━━━\u001b[0m\u001b[37m\u001b[0m \u001b[1m0s\u001b[0m 14ms/step - loss: 0.0031 - mean_absolute_error: 0.0450\n",
            "Epoch 24/60\n",
            "\u001b[1m12/12\u001b[0m \u001b[32m━━━━━━━━━━━━━━━━━━━━\u001b[0m\u001b[37m\u001b[0m \u001b[1m0s\u001b[0m 15ms/step - loss: 0.0029 - mean_absolute_error: 0.0448\n",
            "Epoch 25/60\n",
            "\u001b[1m12/12\u001b[0m \u001b[32m━━━━━━━━━━━━━━━━━━━━\u001b[0m\u001b[37m\u001b[0m \u001b[1m0s\u001b[0m 18ms/step - loss: 0.0016 - mean_absolute_error: 0.0324\n",
            "Epoch 26/60\n",
            "\u001b[1m12/12\u001b[0m \u001b[32m━━━━━━━━━━━━━━━━━━━━\u001b[0m\u001b[37m\u001b[0m \u001b[1m0s\u001b[0m 14ms/step - loss: 8.5922e-04 - mean_absolute_error: 0.0229\n",
            "Epoch 27/60\n",
            "\u001b[1m12/12\u001b[0m \u001b[32m━━━━━━━━━━━━━━━━━━━━\u001b[0m\u001b[37m\u001b[0m \u001b[1m0s\u001b[0m 13ms/step - loss: 9.5316e-04 - mean_absolute_error: 0.0230\n",
            "Epoch 28/60\n",
            "\u001b[1m12/12\u001b[0m \u001b[32m━━━━━━━━━━━━━━━━━━━━\u001b[0m\u001b[37m\u001b[0m \u001b[1m1s\u001b[0m 39ms/step - loss: 6.3823e-04 - mean_absolute_error: 0.0205\n",
            "Epoch 29/60\n",
            "\u001b[1m12/12\u001b[0m \u001b[32m━━━━━━━━━━━━━━━━━━━━\u001b[0m\u001b[37m\u001b[0m \u001b[1m0s\u001b[0m 13ms/step - loss: 6.0180e-04 - mean_absolute_error: 0.0194\n",
            "Epoch 30/60\n",
            "\u001b[1m12/12\u001b[0m \u001b[32m━━━━━━━━━━━━━━━━━━━━\u001b[0m\u001b[37m\u001b[0m \u001b[1m0s\u001b[0m 13ms/step - loss: 4.9082e-04 - mean_absolute_error: 0.0173\n",
            "Epoch 31/60\n",
            "\u001b[1m12/12\u001b[0m \u001b[32m━━━━━━━━━━━━━━━━━━━━\u001b[0m\u001b[37m\u001b[0m \u001b[1m0s\u001b[0m 17ms/step - loss: 5.0586e-04 - mean_absolute_error: 0.0178\n",
            "Epoch 32/60\n",
            "\u001b[1m12/12\u001b[0m \u001b[32m━━━━━━━━━━━━━━━━━━━━\u001b[0m\u001b[37m\u001b[0m \u001b[1m0s\u001b[0m 13ms/step - loss: 5.6621e-04 - mean_absolute_error: 0.0187\n",
            "Epoch 33/60\n",
            "\u001b[1m12/12\u001b[0m \u001b[32m━━━━━━━━━━━━━━━━━━━━\u001b[0m\u001b[37m\u001b[0m \u001b[1m0s\u001b[0m 14ms/step - loss: 4.4503e-04 - mean_absolute_error: 0.0166\n",
            "Epoch 34/60\n",
            "\u001b[1m12/12\u001b[0m \u001b[32m━━━━━━━━━━━━━━━━━━━━\u001b[0m\u001b[37m\u001b[0m \u001b[1m0s\u001b[0m 13ms/step - loss: 4.4940e-04 - mean_absolute_error: 0.0170\n",
            "Epoch 35/60\n",
            "\u001b[1m12/12\u001b[0m \u001b[32m━━━━━━━━━━━━━━━━━━━━\u001b[0m\u001b[37m\u001b[0m \u001b[1m0s\u001b[0m 14ms/step - loss: 4.5540e-04 - mean_absolute_error: 0.0170\n",
            "Epoch 36/60\n",
            "\u001b[1m12/12\u001b[0m \u001b[32m━━━━━━━━━━━━━━━━━━━━\u001b[0m\u001b[37m\u001b[0m \u001b[1m0s\u001b[0m 14ms/step - loss: 4.4314e-04 - mean_absolute_error: 0.0171\n",
            "Epoch 37/60\n",
            "\u001b[1m12/12\u001b[0m \u001b[32m━━━━━━━━━━━━━━━━━━━━\u001b[0m\u001b[37m\u001b[0m \u001b[1m0s\u001b[0m 14ms/step - loss: 3.7331e-04 - mean_absolute_error: 0.0156\n",
            "Epoch 38/60\n",
            "\u001b[1m12/12\u001b[0m \u001b[32m━━━━━━━━━━━━━━━━━━━━\u001b[0m\u001b[37m\u001b[0m \u001b[1m0s\u001b[0m 13ms/step - loss: 4.0408e-04 - mean_absolute_error: 0.0162\n",
            "Epoch 39/60\n",
            "\u001b[1m12/12\u001b[0m \u001b[32m━━━━━━━━━━━━━━━━━━━━\u001b[0m\u001b[37m\u001b[0m \u001b[1m0s\u001b[0m 16ms/step - loss: 3.5972e-04 - mean_absolute_error: 0.0157\n",
            "Epoch 40/60\n",
            "\u001b[1m12/12\u001b[0m \u001b[32m━━━━━━━━━━━━━━━━━━━━\u001b[0m\u001b[37m\u001b[0m \u001b[1m0s\u001b[0m 13ms/step - loss: 3.6167e-04 - mean_absolute_error: 0.0148\n",
            "Epoch 41/60\n",
            "\u001b[1m12/12\u001b[0m \u001b[32m━━━━━━━━━━━━━━━━━━━━\u001b[0m\u001b[37m\u001b[0m \u001b[1m0s\u001b[0m 14ms/step - loss: 3.8450e-04 - mean_absolute_error: 0.0151\n",
            "Epoch 42/60\n",
            "\u001b[1m12/12\u001b[0m \u001b[32m━━━━━━━━━━━━━━━━━━━━\u001b[0m\u001b[37m\u001b[0m \u001b[1m0s\u001b[0m 13ms/step - loss: 3.0232e-04 - mean_absolute_error: 0.0135\n",
            "Epoch 43/60\n",
            "\u001b[1m12/12\u001b[0m \u001b[32m━━━━━━━━━━━━━━━━━━━━\u001b[0m\u001b[37m\u001b[0m \u001b[1m0s\u001b[0m 16ms/step - loss: 3.5640e-04 - mean_absolute_error: 0.0140\n",
            "Epoch 44/60\n",
            "\u001b[1m12/12\u001b[0m \u001b[32m━━━━━━━━━━━━━━━━━━━━\u001b[0m\u001b[37m\u001b[0m \u001b[1m0s\u001b[0m 15ms/step - loss: 2.6766e-04 - mean_absolute_error: 0.0130\n",
            "Epoch 45/60\n",
            "\u001b[1m12/12\u001b[0m \u001b[32m━━━━━━━━━━━━━━━━━━━━\u001b[0m\u001b[37m\u001b[0m \u001b[1m0s\u001b[0m 14ms/step - loss: 3.5964e-04 - mean_absolute_error: 0.0143\n",
            "Epoch 46/60\n",
            "\u001b[1m12/12\u001b[0m \u001b[32m━━━━━━━━━━━━━━━━━━━━\u001b[0m\u001b[37m\u001b[0m \u001b[1m0s\u001b[0m 17ms/step - loss: 3.2989e-04 - mean_absolute_error: 0.0139\n",
            "Epoch 47/60\n",
            "\u001b[1m12/12\u001b[0m \u001b[32m━━━━━━━━━━━━━━━━━━━━\u001b[0m\u001b[37m\u001b[0m \u001b[1m0s\u001b[0m 24ms/step - loss: 3.4646e-04 - mean_absolute_error: 0.0143\n",
            "Epoch 48/60\n",
            "\u001b[1m12/12\u001b[0m \u001b[32m━━━━━━━━━━━━━━━━━━━━\u001b[0m\u001b[37m\u001b[0m \u001b[1m0s\u001b[0m 24ms/step - loss: 3.1856e-04 - mean_absolute_error: 0.0141\n",
            "Epoch 49/60\n",
            "\u001b[1m12/12\u001b[0m \u001b[32m━━━━━━━━━━━━━━━━━━━━\u001b[0m\u001b[37m\u001b[0m \u001b[1m0s\u001b[0m 23ms/step - loss: 2.8150e-04 - mean_absolute_error: 0.0132\n",
            "Epoch 50/60\n",
            "\u001b[1m12/12\u001b[0m \u001b[32m━━━━━━━━━━━━━━━━━━━━\u001b[0m\u001b[37m\u001b[0m \u001b[1m0s\u001b[0m 25ms/step - loss: 2.9192e-04 - mean_absolute_error: 0.0128\n",
            "Epoch 51/60\n",
            "\u001b[1m12/12\u001b[0m \u001b[32m━━━━━━━━━━━━━━━━━━━━\u001b[0m\u001b[37m\u001b[0m \u001b[1m1s\u001b[0m 22ms/step - loss: 3.2326e-04 - mean_absolute_error: 0.0138\n",
            "Epoch 52/60\n",
            "\u001b[1m12/12\u001b[0m \u001b[32m━━━━━━━━━━━━━━━━━━━━\u001b[0m\u001b[37m\u001b[0m \u001b[1m1s\u001b[0m 24ms/step - loss: 2.6725e-04 - mean_absolute_error: 0.0128\n",
            "Epoch 53/60\n",
            "\u001b[1m12/12\u001b[0m \u001b[32m━━━━━━━━━━━━━━━━━━━━\u001b[0m\u001b[37m\u001b[0m \u001b[1m0s\u001b[0m 23ms/step - loss: 2.3694e-04 - mean_absolute_error: 0.0119\n",
            "Epoch 54/60\n",
            "\u001b[1m12/12\u001b[0m \u001b[32m━━━━━━━━━━━━━━━━━━━━\u001b[0m\u001b[37m\u001b[0m \u001b[1m1s\u001b[0m 24ms/step - loss: 3.3985e-04 - mean_absolute_error: 0.0139\n",
            "Epoch 55/60\n",
            "\u001b[1m12/12\u001b[0m \u001b[32m━━━━━━━━━━━━━━━━━━━━\u001b[0m\u001b[37m\u001b[0m \u001b[1m0s\u001b[0m 24ms/step - loss: 3.0801e-04 - mean_absolute_error: 0.0132\n",
            "Epoch 56/60\n",
            "\u001b[1m12/12\u001b[0m \u001b[32m━━━━━━━━━━━━━━━━━━━━\u001b[0m\u001b[37m\u001b[0m \u001b[1m0s\u001b[0m 19ms/step - loss: 3.2983e-04 - mean_absolute_error: 0.0140\n",
            "Epoch 57/60\n",
            "\u001b[1m12/12\u001b[0m \u001b[32m━━━━━━━━━━━━━━━━━━━━\u001b[0m\u001b[37m\u001b[0m \u001b[1m0s\u001b[0m 16ms/step - loss: 3.1067e-04 - mean_absolute_error: 0.0133\n",
            "Epoch 58/60\n",
            "\u001b[1m12/12\u001b[0m \u001b[32m━━━━━━━━━━━━━━━━━━━━\u001b[0m\u001b[37m\u001b[0m \u001b[1m0s\u001b[0m 14ms/step - loss: 2.5424e-04 - mean_absolute_error: 0.0119\n",
            "Epoch 59/60\n",
            "\u001b[1m12/12\u001b[0m \u001b[32m━━━━━━━━━━━━━━━━━━━━\u001b[0m\u001b[37m\u001b[0m \u001b[1m0s\u001b[0m 14ms/step - loss: 3.0259e-04 - mean_absolute_error: 0.0129\n",
            "Epoch 60/60\n",
            "\u001b[1m12/12\u001b[0m \u001b[32m━━━━━━━━━━━━━━━━━━━━\u001b[0m\u001b[37m\u001b[0m \u001b[1m0s\u001b[0m 14ms/step - loss: 2.7177e-04 - mean_absolute_error: 0.0124\n"
          ]
        },
        {
          "output_type": "execute_result",
          "data": {
            "text/plain": [
              "<keras.src.callbacks.history.History at 0x7c13a792ee30>"
            ]
          },
          "metadata": {},
          "execution_count": 85
        }
      ]
    },
    {
      "cell_type": "code",
      "source": [
        "y_pred = model.predict(X)\n",
        "train_ypred = y_pred[:train_size]\n",
        "test_ypred = y_pred[train_size:]\n",
        "import matplotlib.pyplot as plt\n",
        "plt.plot(range(len(y)), y)\n",
        "plt.plot(range(train_size), train_ypred)\n",
        "plt.plot(range(train_size,len(y)), test_ypred)"
      ],
      "metadata": {
        "colab": {
          "base_uri": "https://localhost:8080/",
          "height": 465
        },
        "id": "ZPmJ7bhccRjT",
        "outputId": "d951b1b3-d1ca-4813-b3f9-bc591b9af3e0"
      },
      "execution_count": null,
      "outputs": [
        {
          "output_type": "stream",
          "name": "stdout",
          "text": [
            "\u001b[1m17/17\u001b[0m \u001b[32m━━━━━━━━━━━━━━━━━━━━\u001b[0m\u001b[37m\u001b[0m \u001b[1m1s\u001b[0m 42ms/step\n"
          ]
        },
        {
          "output_type": "execute_result",
          "data": {
            "text/plain": [
              "[<matplotlib.lines.Line2D at 0x7c13a6621c30>]"
            ]
          },
          "metadata": {},
          "execution_count": 86
        },
        {
          "output_type": "display_data",
          "data": {
            "text/plain": [
              "<Figure size 640x480 with 1 Axes>"
            ],
            "image/png": "[encoded data removed]"
          },
          "metadata": {}
        }
      ]
    },
    {
      "cell_type": "code",
      "source": [
        "from tensorflow.keras.layers import Bidirectional\n",
        "from tensorflow.keras.layers import BatchNormalization\n",
        "from tensorflow.keras.optimizers import SGD,Adam,RMSprop\n",
        "from tensorflow.keras.callbacks import ReduceLROnPlateau\n",
        "model = Sequential()\n",
        "model.add(Bidirectional(GRU(units=10, activation='tanh', return_sequences=True, input_shape=((time_step, 1)))))\n",
        "# model.add(BatchNormalization())\n",
        "# model.add(Dropout(0.2))\n",
        "model.add(Bidirectional(GRU(units=10, activation='tanh', return_sequences=False)))\n",
        "# model.add(BatchNormalization())\n",
        "# model.add(Dropout(0.2))\n",
        "# model.add(Bidirectional(GRU(units=2, activation='tanh', return_sequences=False)))\n",
        "# model.add(Dense(64, activation='relu'))\n",
        "# model.add(Dense(32, activation='relu'))\n",
        "model.add(Dense(1, activation='sigmoid'))\n",
        "\n",
        "# opt = RMSprop(learning_rate=0.001, weight_decay=1e-4)\n",
        "#adam = Adam(learning_rate=0.001)\n",
        "model.compile(loss='MSE', optimizer='adam', metrics=['mean_absolute_error', \"mean_absolute_percentage_error\", \"r2_score\"])\n",
        "model.summary()\n",
        "\n",
        "reduce_lr = ReduceLROnPlateau(monitor='val_loss',  # Monitor validation loss\n",
        "                              factor=0.5,          # Reduce learning rate by half\n",
        "                              patience=3,          # Wait for 3 epochs with no improvement\n",
        "                              verbose=1,           # Print learning rate changes\n",
        "                              mode='min',          # Reduce when the monitored metric stops decreasing\n",
        "                              min_delta=1e-4,      # Minimum change to qualify as an improvement\n",
        "                              cooldown=2,          # Wait 2 epochs after reducing LR before resuming normal operations\n",
        "                              min_lr=1e-6)         # Do not let the learning rate drop below 1e-6\n",
        "model.fit(X_train, y_train, epochs=5, batch_size=1,  callbacks=[reduce_lr])\n"
      ],
      "metadata": {
        "colab": {
          "base_uri": "https://localhost:8080/",
          "height": 471
        },
        "id": "kN5hcXbnJuAy",
        "outputId": "a70ac15a-7185-48cc-d2ed-2615d8e2b21e"
      },
      "execution_count": null,
      "outputs": [
        {
          "output_type": "display_data",
          "data": {
            "text/plain": [
              "\u001b[1mModel: \"sequential_9\"\u001b[0m\n"
            ],
            "text/html": [
              "<pre style=\"white-space:pre;overflow-x:auto;line-height:normal;font-family:Menlo,'DejaVu Sans Mono',consolas,'Courier New',monospace\"><span style=\"font-weight: bold\">Model: \"sequential_9\"</span>\n",
              "</pre>\n"
            ]
          },
          "metadata": {}
        },
        {
          "output_type": "display_data",
          "data": {
            "text/plain": [
              "┏━━━━━━━━━━━━━━━━━━━━━━━━━━━━━━━━━━━━━━┳━━━━━━━━━━━━━━━━━━━━━━━━━━━━━┳━━━━━━━━━━━━━━━━━┓\n",
              "┃\u001b[1m \u001b[0m\u001b[1mLayer (type)                        \u001b[0m\u001b[1m \u001b[0m┃\u001b[1m \u001b[0m\u001b[1mOutput Shape               \u001b[0m\u001b[1m \u001b[0m┃\u001b[1m \u001b[0m\u001b[1m        Param #\u001b[0m\u001b[1m \u001b[0m┃\n",
              "┡━━━━━━━━━━━━━━━━━━━━━━━━━━━━━━━━━━━━━━╇━━━━━━━━━━━━━━━━━━━━━━━━━━━━━╇━━━━━━━━━━━━━━━━━┩\n",
              "│ bidirectional_2 (\u001b[38;5;33mBidirectional\u001b[0m)      │ ?                           │     \u001b[38;5;34m0\u001b[0m (unbuilt) │\n",
              "├──────────────────────────────────────┼─────────────────────────────┼─────────────────┤\n",
              "│ bidirectional_3 (\u001b[38;5;33mBidirectional\u001b[0m)      │ ?                           │     \u001b[38;5;34m0\u001b[0m (unbuilt) │\n",
              "├──────────────────────────────────────┼─────────────────────────────┼─────────────────┤\n",
              "│ dense_9 (\u001b[38;5;33mDense\u001b[0m)                      │ ?                           │     \u001b[38;5;34m0\u001b[0m (unbuilt) │\n",
              "└──────────────────────────────────────┴─────────────────────────────┴─────────────────┘\n"
            ],
            "text/html": [
              "<pre style=\"white-space:pre;overflow-x:auto;line-height:normal;font-family:Menlo,'DejaVu Sans Mono',consolas,'Courier New',monospace\">┏━━━━━━━━━━━━━━━━━━━━━━━━━━━━━━━━━━━━━━┳━━━━━━━━━━━━━━━━━━━━━━━━━━━━━┳━━━━━━━━━━━━━━━━━┓\n",
              "┃<span style=\"font-weight: bold\"> Layer (type)                         </span>┃<span style=\"font-weight: bold\"> Output Shape                </span>┃<span style=\"font-weight: bold\">         Param # </span>┃\n",
              "┡━━━━━━━━━━━━━━━━━━━━━━━━━━━━━━━━━━━━━━╇━━━━━━━━━━━━━━━━━━━━━━━━━━━━━╇━━━━━━━━━━━━━━━━━┩\n",
              "│ bidirectional_2 (<span style=\"color: #0087ff; text-decoration-color: #0087ff\">Bidirectional</span>)      │ ?                           │     <span style=\"color: #00af00; text-decoration-color: #00af00\">0</span> (unbuilt) │\n",
              "├──────────────────────────────────────┼─────────────────────────────┼─────────────────┤\n",
              "│ bidirectional_3 (<span style=\"color: #0087ff; text-decoration-color: #0087ff\">Bidirectional</span>)      │ ?                           │     <span style=\"color: #00af00; text-decoration-color: #00af00\">0</span> (unbuilt) │\n",
              "├──────────────────────────────────────┼─────────────────────────────┼─────────────────┤\n",
              "│ dense_9 (<span style=\"color: #0087ff; text-decoration-color: #0087ff\">Dense</span>)                      │ ?                           │     <span style=\"color: #00af00; text-decoration-color: #00af00\">0</span> (unbuilt) │\n",
              "└──────────────────────────────────────┴─────────────────────────────┴─────────────────┘\n",
              "</pre>\n"
            ]
          },
          "metadata": {}
        },
        {
          "output_type": "display_data",
          "data": {
            "text/plain": [
              "\u001b[1m Total params: \u001b[0m\u001b[38;5;34m0\u001b[0m (0.00 B)\n"
            ],
            "text/html": [
              "<pre style=\"white-space:pre;overflow-x:auto;line-height:normal;font-family:Menlo,'DejaVu Sans Mono',consolas,'Courier New',monospace\"><span style=\"font-weight: bold\"> Total params: </span><span style=\"color: #00af00; text-decoration-color: #00af00\">0</span> (0.00 B)\n",
              "</pre>\n"
            ]
          },
          "metadata": {}
        },
        {
          "output_type": "display_data",
          "data": {
            "text/plain": [
              "\u001b[1m Trainable params: \u001b[0m\u001b[38;5;34m0\u001b[0m (0.00 B)\n"
            ],
            "text/html": [
              "<pre style=\"white-space:pre;overflow-x:auto;line-height:normal;font-family:Menlo,'DejaVu Sans Mono',consolas,'Courier New',monospace\"><span style=\"font-weight: bold\"> Trainable params: </span><span style=\"color: #00af00; text-decoration-color: #00af00\">0</span> (0.00 B)\n",
              "</pre>\n"
            ]
          },
          "metadata": {}
        },
        {
          "output_type": "display_data",
          "data": {
            "text/plain": [
              "\u001b[1m Non-trainable params: \u001b[0m\u001b[38;5;34m0\u001b[0m (0.00 B)\n"
            ],
            "text/html": [
              "<pre style=\"white-space:pre;overflow-x:auto;line-height:normal;font-family:Menlo,'DejaVu Sans Mono',consolas,'Courier New',monospace\"><span style=\"font-weight: bold\"> Non-trainable params: </span><span style=\"color: #00af00; text-decoration-color: #00af00\">0</span> (0.00 B)\n",
              "</pre>\n"
            ]
          },
          "metadata": {}
        },
        {
          "output_type": "stream",
          "name": "stdout",
          "text": [
            "Epoch 1/5\n",
            "\u001b[1m365/365\u001b[0m \u001b[32m━━━━━━━━━━━━━━━━━━━━\u001b[0m\u001b[37m\u001b[0m \u001b[1m12s\u001b[0m 12ms/step - loss: 0.0427 - mean_absolute_error: 0.1540 - mean_absolute_percentage_error: 408.7807 - r2_score: -26.4712 - learning_rate: 0.0010\n",
            "Epoch 2/5\n",
            "\u001b[1m 13/365\u001b[0m \u001b[37m━━━━━━━━━━━━━━━━━━━━\u001b[0m \u001b[1m3s\u001b[0m 9ms/step - loss: 0.0041 - mean_absolute_error: 0.0572 - mean_absolute_percentage_error: 84.0039 - r2_score: 0.0457"
          ]
        },
        {
          "output_type": "stream",
          "name": "stderr",
          "text": [
            "/usr/local/lib/python3.10/dist-packages/keras/src/callbacks/callback_list.py:96: UserWarning: Learning rate reduction is conditioned on metric `val_loss` which is not available. Available metrics are: loss,mean_absolute_error,mean_absolute_percentage_error,r2_score,learning_rate.\n",
            "  callback.on_epoch_end(epoch, logs)\n"
          ]
        },
        {
          "output_type": "stream",
          "name": "stdout",
          "text": [
            "\u001b[1m365/365\u001b[0m \u001b[32m━━━━━━━━━━━━━━━━━━━━\u001b[0m\u001b[37m\u001b[0m \u001b[1m3s\u001b[0m 8ms/step - loss: 0.0022 - mean_absolute_error: 0.0381 - mean_absolute_percentage_error: 134.1966 - r2_score: 0.3927 - learning_rate: 0.0010\n",
            "Epoch 3/5\n",
            "\u001b[1m365/365\u001b[0m \u001b[32m━━━━━━━━━━━━━━━━━━━━\u001b[0m\u001b[37m\u001b[0m \u001b[1m3s\u001b[0m 8ms/step - loss: 2.3734e-04 - mean_absolute_error: 0.0125 - mean_absolute_percentage_error: 45.0995 - r2_score: 0.9371 - learning_rate: 0.0010\n",
            "Epoch 4/5\n",
            "\u001b[1m365/365\u001b[0m \u001b[32m━━━━━━━━━━━━━━━━━━━━\u001b[0m\u001b[37m\u001b[0m \u001b[1m6s\u001b[0m 10ms/step - loss: 1.4818e-04 - mean_absolute_error: 0.0097 - mean_absolute_percentage_error: 44.7630 - r2_score: 0.9621 - learning_rate: 0.0010\n",
            "Epoch 5/5\n",
            "\u001b[1m365/365\u001b[0m \u001b[32m━━━━━━━━━━━━━━━━━━━━\u001b[0m\u001b[37m\u001b[0m \u001b[1m4s\u001b[0m 10ms/step - loss: 9.2627e-05 - mean_absolute_error: 0.0077 - mean_absolute_percentage_error: 28.3139 - r2_score: 0.9639 - learning_rate: 0.0010\n"
          ]
        },
        {
          "output_type": "execute_result",
          "data": {
            "text/plain": [
              "<keras.src.callbacks.history.History at 0x7c13a80fece0>"
            ]
          },
          "metadata": {},
          "execution_count": 87
        }
      ]
    },
    {
      "cell_type": "markdown",
      "source": [
        "If the model is not overfitting, regularization techniques like Dropout and Batch Normalization may hinder learning by introducing unnecessary noise or normalizing activations that do not need it."
      ],
      "metadata": {
        "id": "stjy_E1q5y6Y"
      }
    },
    {
      "cell_type": "code",
      "source": [
        "y_pred = model.predict(X)\n",
        "train_ypred = y_pred[:train_size]\n",
        "test_ypred = y_pred[train_size:]\n",
        "import matplotlib.pyplot as plt\n",
        "plt.plot(range(len(y)), y)\n",
        "plt.plot(range(train_size), train_ypred)\n",
        "plt.plot(range(train_size,len(y)), test_ypred)"
      ],
      "metadata": {
        "colab": {
          "base_uri": "https://localhost:8080/",
          "height": 465
        },
        "id": "Hi-EKvkHJ49Z",
        "outputId": "1285e5b6-0586-4afc-b355-83ccf29d04b3"
      },
      "execution_count": null,
      "outputs": [
        {
          "output_type": "stream",
          "name": "stdout",
          "text": [
            "\u001b[1m17/17\u001b[0m \u001b[32m━━━━━━━━━━━━━━━━━━━━\u001b[0m\u001b[37m\u001b[0m \u001b[1m1s\u001b[0m 49ms/step\n"
          ]
        },
        {
          "output_type": "execute_result",
          "data": {
            "text/plain": [
              "[<matplotlib.lines.Line2D at 0x7c13a5e826e0>]"
            ]
          },
          "metadata": {},
          "execution_count": 88
        },
        {
          "output_type": "display_data",
          "data": {
            "text/plain": [
              "<Figure size 640x480 with 1 Axes>"
            ],
            "image/png": "[encoded data removed]"
          },
          "metadata": {}
        }
      ]
    },
    {
      "cell_type": "markdown",
      "source": [
        "a simple model of gru is working better than others"
      ],
      "metadata": {
        "id": "LPdKLBpn7rt-"
      }
    },
    {
      "cell_type": "markdown",
      "source": [
        "after a period the test cant follow the train."
      ],
      "metadata": {
        "id": "IJWGqHPr5a4k"
      }
    },
    {
      "cell_type": "markdown",
      "source": [
        "more epochs not help to get better following"
      ],
      "metadata": {
        "id": "r59bNIBL-Kn3"
      }
    },
    {
      "cell_type": "markdown",
      "source": [
        "batch size is so sensitive"
      ],
      "metadata": {
        "id": "ImFmMkclAjdd"
      }
    },
    {
      "cell_type": "markdown",
      "source": [
        "we can use hyperparameter tuning, k fold cross validation to get better results with regressors"
      ],
      "metadata": {
        "id": "LpRay5k0Yy7W"
      }
    },
    {
      "cell_type": "code",
      "source": [
        "def plot_model_comparison(histories, labels):\n",
        "\n",
        "    plt.figure(figsize=(14, 6))\n",
        "\n",
        "    # Plotting Training Loss\n",
        "    plt.subplot(1, 2, 1)\n",
        "    for i, history in enumerate(histories):\n",
        "        plt.plot(history.history['loss'], label=f'{labels[i]} - Training Loss')\n",
        "    plt.title('Training Loss Comparison')\n",
        "    plt.xlabel('Epochs')\n",
        "    plt.ylabel('Loss')\n",
        "    plt.legend()\n",
        "\n",
        "    # Plotting Validation Loss\n",
        "    plt.subplot(1, 2, 2)\n",
        "    for i, history in enumerate(histories):\n",
        "        plt.plot(history.history['mean_absolute_error'], label=f'{labels[i]} - Validation Loss')\n",
        "    plt.title('mean_absolute_error Comparison')\n",
        "    plt.xlabel('Epochs')\n",
        "    plt.ylabel('Loss')\n",
        "    plt.legend()\n",
        "\n",
        "    plt.tight_layout()\n",
        "    plt.show()"
      ],
      "metadata": {
        "id": "nFYIxbYQOkmD"
      },
      "execution_count": null,
      "outputs": []
    },
    {
      "cell_type": "code",
      "source": [
        "plot_model_comparison([history_gru, history_lstm], ['GRU Model', 'LSTM Model'])\n"
      ],
      "metadata": {
        "id": "5nW3qgkJQOvE",
        "colab": {
          "base_uri": "https://localhost:8080/",
          "height": 454
        },
        "outputId": "ad88557f-2472-4bde-b4fb-538c8a2b744f"
      },
      "execution_count": null,
      "outputs": [
        {
          "output_type": "display_data",
          "data": {
            "text/plain": [
              "<Figure size 1400x600 with 2 Axes>"
            ],
            "image/png": "[encoded data removed]"
          },
          "metadata": {}
        }
      ]
    },
    {
      "cell_type": "markdown",
      "source": [
        "Results are different because of various initial points,by the way, the GRU models follows longer, lstm is in the second place then simple rnn is the last one, but i think lstm and simple rnn are useful for short periods in my tested models not in general."
      ],
      "metadata": {
        "id": "VSdYtyGsPNV1"
      }
    },
    {
      "cell_type": "markdown",
      "source": [],
      "metadata": {
        "id": "29RMBU3qOUfw"
      }
    }
  ]
}